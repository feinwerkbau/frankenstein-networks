{
 "cells": [
  {
   "cell_type": "code",
   "execution_count": 1,
   "metadata": {},
   "outputs": [],
   "source": [
    "import requests\n",
    "import cv2\n",
    "import json\n",
    "import os\n",
    "from tqdm import tqdm_notebook"
   ]
  },
  {
   "cell_type": "markdown",
   "metadata": {},
   "source": [
    "## Example\n",
    "\n",
    "* http://www.image-net.org/api/text/imagenet.synset.geturls?wnid=n04154340\n",
    "\n",
    "Classes from https://s3.amazonaws.com/deep-learning-models/image-models/imagenet_class_index.json"
   ]
  },
  {
   "cell_type": "code",
   "execution_count": 19,
   "metadata": {},
   "outputs": [],
   "source": [
    "r = requests.get(\"http://www.image-net.org/api/text/imagenet.synset.geturls\",\n",
    "                params={\"wnid\": \"n04154340\"})"
   ]
  },
  {
   "cell_type": "code",
   "execution_count": 27,
   "metadata": {},
   "outputs": [
    {
     "data": {
      "text/plain": [
       "56000"
      ]
     },
     "execution_count": 27,
     "metadata": {},
     "output_type": "execute_result"
    }
   ],
   "source": [
    "len(r.content)"
   ]
  },
  {
   "cell_type": "code",
   "execution_count": 3,
   "metadata": {},
   "outputs": [],
   "source": [
    "urls = r.content.decode(\"utf8\").split()"
   ]
  },
  {
   "cell_type": "code",
   "execution_count": 4,
   "metadata": {},
   "outputs": [
    {
     "data": {
      "text/plain": [
       "875"
      ]
     },
     "execution_count": 4,
     "metadata": {},
     "output_type": "execute_result"
    }
   ],
   "source": [
    "len(urls)"
   ]
  },
  {
   "cell_type": "code",
   "execution_count": 5,
   "metadata": {},
   "outputs": [
    {
     "data": {
      "text/plain": [
       "['http://www.oroshiuri.net/PERFUME/catalog/images/SCREW%20.jpg',\n",
       " 'http://www.made-in-china.com/image/2f0j00dBStFnMJQaWLM/Hexagon-Socket-Countersunk-Head-Screw-DIN-7991-.jpg',\n",
       " 'http://imghost.indiamart.com/data/2/M/ETO-1110388/leadscrew23_640x480.jpg',\n",
       " 'http://fasteningconcepts.com/Merchant2/graphics/00000001/screw5.jpg',\n",
       " 'http://www.bobvila.com/images/ProductServices/ProductDirectory/Tapcon.jpg']"
      ]
     },
     "execution_count": 5,
     "metadata": {},
     "output_type": "execute_result"
    }
   ],
   "source": [
    "urls[:5]"
   ]
  },
  {
   "cell_type": "code",
   "execution_count": 9,
   "metadata": {},
   "outputs": [
    {
     "data": {
      "text/plain": [
       "[(0, 'n01440764', 'tench'),\n",
       " (1, 'n01443537', 'goldfish'),\n",
       " (2, 'n01484850', 'great_white_shark'),\n",
       " (3, 'n01491361', 'tiger_shark'),\n",
       " (4, 'n01494475', 'hammerhead')]"
      ]
     },
     "execution_count": 9,
     "metadata": {},
     "output_type": "execute_result"
    }
   ],
   "source": [
    "with open(\"./imagenet_class_index.json\") as f:\n",
    "    categories_raw = json.load(f)\n",
    "    \n",
    "categories = [(int(k), v) for k, v in categories_raw.items()]\n",
    "categories = [tuple([k] + v) for k, v in sorted(categories)]\n",
    "categories[:5]"
   ]
  },
  {
   "cell_type": "markdown",
   "metadata": {},
   "source": [
    "## Action\n",
    "\n",
    "At least 7kB to prevent trivial things like \"This photo is no longer available\" (there were many those, ~1/4)."
   ]
  },
  {
   "cell_type": "code",
   "execution_count": 28,
   "metadata": {},
   "outputs": [],
   "source": [
    "def urlretrieve(url, filepath, timeout=10, min_siz_kB=7.):\n",
    "    with open(filepath, 'wb') as f:\n",
    "        content = requests.get(url, allow_redirects=True, timeout=timeout).content\n",
    "        if len(content) / 1024 > min_siz_kB:\n",
    "            f.write(requests.get(url, allow_redirects=True, timeout=timeout).content)\n",
    "        else:\n",
    "            raise Exception(\"Zu klein! {:.1f} kB\".format(len(content) / 1024))"
   ]
  },
  {
   "cell_type": "code",
   "execution_count": 38,
   "metadata": {},
   "outputs": [],
   "source": [
    "def download_imagenet_category(wnid=\"n04154340\",\n",
    "                               timeout=2,\n",
    "                               path=\"data/imgs\",\n",
    "                               resize=True,\n",
    "                               resize_to=(250, 250),\n",
    "                               limit=10):\n",
    "\n",
    "    r = requests.get(\"http://www.image-net.org/api/text/imagenet.synset.geturls\",\n",
    "                    params={\"wnid\": wnid})\n",
    "    urls = r.content.decode('utf-8').split()\n",
    "    # print(\"{wnid} ---> {path}\".format(wnid=wnid, path=path))\n",
    "\n",
    "    if not os.path.exists(path):\n",
    "        os.makedirs(path)\n",
    "\n",
    "    pic_num = 0\n",
    "    \n",
    "    tqdm_success = tqdm_notebook(total=limit, desc=\"{path} saved\".format(path=path), leave=False)\n",
    "    for url in tqdm_notebook(urls, desc=\"{path} tried\".format(path=path), leave=False):\n",
    "        try:\n",
    "            # print(url, end=\" ... \")\n",
    "            filepath = \"{path}/{pic_num}.jpg\".format(path=path, pic_num=pic_num)\n",
    "            urlretrieve(url, filepath, timeout=timeout)\n",
    "            # print(\"DONE!\")\n",
    "                    \n",
    "            if resize:\n",
    "                img = cv2.imread(filepath)\n",
    "                resized_image = cv2.resize(img, resize_to)\n",
    "                cv2.imwrite(filepath, resized_image)\n",
    "\n",
    "            pic_num += 1\n",
    "            tqdm_success.update(n=1)\n",
    "\n",
    "        except Exception as e:\n",
    "            pass\n",
    "            # print(str(e))\n",
    "            \n",
    "        if pic_num >= limit:\n",
    "            break\n",
    "            \n",
    "    tqdm_success.close()"
   ]
  },
  {
   "cell_type": "code",
   "execution_count": 41,
   "metadata": {},
   "outputs": [
    {
     "data": {
      "application/vnd.jupyter.widget-view+json": {
       "model_id": "357d4799368d43a4abbd878f11aba876"
      }
     },
     "metadata": {},
     "output_type": "display_data"
    },
    {
     "data": {
      "application/vnd.jupyter.widget-view+json": {
       "model_id": "d2938985fcd3462fb1c77bfe7ea6e063"
      }
     },
     "metadata": {},
     "output_type": "display_data"
    }
   ],
   "source": [
    "download_imagenet_category('n01491361')"
   ]
  },
  {
   "cell_type": "code",
   "execution_count": 42,
   "metadata": {},
   "outputs": [],
   "source": [
    "last_id = 0  # for recovery"
   ]
  },
  {
   "cell_type": "code",
   "execution_count": null,
   "metadata": {},
   "outputs": [
    {
     "data": {
      "application/vnd.jupyter.widget-view+json": {
       "model_id": "ecc6c6654f9f4bdf8dd019a620c1b006"
      }
     },
     "metadata": {},
     "output_type": "display_data"
    },
    {
     "data": {
      "application/vnd.jupyter.widget-view+json": {
       "model_id": "2688ead222a64162aba6ed755d378024"
      }
     },
     "metadata": {},
     "output_type": "display_data"
    },
    {
     "data": {
      "application/vnd.jupyter.widget-view+json": {
       "model_id": "9d49760515d94aa0bd6d5f895f83290c"
      }
     },
     "metadata": {},
     "output_type": "display_data"
    },
    {
     "data": {
      "application/vnd.jupyter.widget-view+json": {
       "model_id": "59040a0622ec44a588af9fa51a41871e"
      }
     },
     "metadata": {},
     "output_type": "display_data"
    },
    {
     "data": {
      "application/vnd.jupyter.widget-view+json": {
       "model_id": "745211a99e81414c842da509c075ae7a"
      }
     },
     "metadata": {},
     "output_type": "display_data"
    },
    {
     "data": {
      "application/vnd.jupyter.widget-view+json": {
       "model_id": "9ba2fcab3291456caee3f21145020f62"
      }
     },
     "metadata": {},
     "output_type": "display_data"
    },
    {
     "data": {
      "application/vnd.jupyter.widget-view+json": {
       "model_id": "2a5a165deb8345f4bb188dfd90dddc9b"
      }
     },
     "metadata": {},
     "output_type": "display_data"
    },
    {
     "data": {
      "application/vnd.jupyter.widget-view+json": {
       "model_id": "1d86368257ff4599bf35eef22bc9c7c4"
      }
     },
     "metadata": {},
     "output_type": "display_data"
    },
    {
     "data": {
      "application/vnd.jupyter.widget-view+json": {
       "model_id": "994bbf5881e345d783eb1793f197b1b9"
      }
     },
     "metadata": {},
     "output_type": "display_data"
    },
    {
     "data": {
      "application/vnd.jupyter.widget-view+json": {
       "model_id": "511528354ed24c2a86dad54641cc90d9"
      }
     },
     "metadata": {},
     "output_type": "display_data"
    },
    {
     "data": {
      "application/vnd.jupyter.widget-view+json": {
       "model_id": "d4b0fcaaf4a4467290a199ec20932da2"
      }
     },
     "metadata": {},
     "output_type": "display_data"
    },
    {
     "data": {
      "application/vnd.jupyter.widget-view+json": {
       "model_id": "506d91365afc4ca0b986f99b02f1853a"
      }
     },
     "metadata": {},
     "output_type": "display_data"
    },
    {
     "data": {
      "application/vnd.jupyter.widget-view+json": {
       "model_id": "afc338437036492091a2a68fd1c4de52"
      }
     },
     "metadata": {},
     "output_type": "display_data"
    },
    {
     "data": {
      "application/vnd.jupyter.widget-view+json": {
       "model_id": "e078638689cf40d4a334b33715297ef2"
      }
     },
     "metadata": {},
     "output_type": "display_data"
    },
    {
     "data": {
      "application/vnd.jupyter.widget-view+json": {
       "model_id": "3557bdf54a4846b3a89d8f56163b32ff"
      }
     },
     "metadata": {},
     "output_type": "display_data"
    },
    {
     "data": {
      "application/vnd.jupyter.widget-view+json": {
       "model_id": "6ee70f2c50dc44d6be32f25c9a451956"
      }
     },
     "metadata": {},
     "output_type": "display_data"
    },
    {
     "data": {
      "application/vnd.jupyter.widget-view+json": {
       "model_id": "1e5b143f65574161b972d9deeefd53a7"
      }
     },
     "metadata": {},
     "output_type": "display_data"
    },
    {
     "data": {
      "application/vnd.jupyter.widget-view+json": {
       "model_id": "95505eb5eb7c4b2c862e208a12386c5f"
      }
     },
     "metadata": {},
     "output_type": "display_data"
    },
    {
     "data": {
      "application/vnd.jupyter.widget-view+json": {
       "model_id": "c9129ba902ed4267847357bd632be22b"
      }
     },
     "metadata": {},
     "output_type": "display_data"
    },
    {
     "data": {
      "application/vnd.jupyter.widget-view+json": {
       "model_id": "aca20b5e844d4dbd9fac81486a254cbc"
      }
     },
     "metadata": {},
     "output_type": "display_data"
    },
    {
     "data": {
      "application/vnd.jupyter.widget-view+json": {
       "model_id": "dc6997aa26c44ba799e3084e40513514"
      }
     },
     "metadata": {},
     "output_type": "display_data"
    },
    {
     "data": {
      "application/vnd.jupyter.widget-view+json": {
       "model_id": "46b88645a5a941a1a9c5629003b9a46c"
      }
     },
     "metadata": {},
     "output_type": "display_data"
    },
    {
     "data": {
      "application/vnd.jupyter.widget-view+json": {
       "model_id": "e5e7433d9542443fa51088c5e88fe04f"
      }
     },
     "metadata": {},
     "output_type": "display_data"
    },
    {
     "data": {
      "application/vnd.jupyter.widget-view+json": {
       "model_id": "f8180ba778a44ef2bd6fc24206db378e"
      }
     },
     "metadata": {},
     "output_type": "display_data"
    },
    {
     "data": {
      "application/vnd.jupyter.widget-view+json": {
       "model_id": "cd5a3e24702041a3b8bbf5bb1e9be7dc"
      }
     },
     "metadata": {},
     "output_type": "display_data"
    },
    {
     "data": {
      "application/vnd.jupyter.widget-view+json": {
       "model_id": "ef08b74c5d91480d81c8a55cec558df3"
      }
     },
     "metadata": {},
     "output_type": "display_data"
    },
    {
     "data": {
      "application/vnd.jupyter.widget-view+json": {
       "model_id": "72cba336eb6a419691a85b133a3098fe"
      }
     },
     "metadata": {},
     "output_type": "display_data"
    },
    {
     "data": {
      "application/vnd.jupyter.widget-view+json": {
       "model_id": "92ceb67784b14e7a9f119192bcf52a6a"
      }
     },
     "metadata": {},
     "output_type": "display_data"
    },
    {
     "data": {
      "application/vnd.jupyter.widget-view+json": {
       "model_id": "e6cfe6a57b5b47ecba8e4a26c5d4df5b"
      }
     },
     "metadata": {},
     "output_type": "display_data"
    },
    {
     "data": {
      "application/vnd.jupyter.widget-view+json": {
       "model_id": "a23c90e6f6d644eb8e091efd917c51c9"
      }
     },
     "metadata": {},
     "output_type": "display_data"
    },
    {
     "data": {
      "application/vnd.jupyter.widget-view+json": {
       "model_id": "47f6afbfbd5c4a3f8965bbd5a9d4fce3"
      }
     },
     "metadata": {},
     "output_type": "display_data"
    },
    {
     "data": {
      "application/vnd.jupyter.widget-view+json": {
       "model_id": "7d1c6fe7f0564ac9a4cc6973a41780f7"
      }
     },
     "metadata": {},
     "output_type": "display_data"
    },
    {
     "data": {
      "application/vnd.jupyter.widget-view+json": {
       "model_id": "a59ec8650e8047c990167c0c5f92c7aa"
      }
     },
     "metadata": {},
     "output_type": "display_data"
    },
    {
     "data": {
      "application/vnd.jupyter.widget-view+json": {
       "model_id": "4f2969c232674cc5b88da16184a9b6a3"
      }
     },
     "metadata": {},
     "output_type": "display_data"
    },
    {
     "data": {
      "application/vnd.jupyter.widget-view+json": {
       "model_id": "4651631fd4a14379bf1515bf69cb3f4e"
      }
     },
     "metadata": {},
     "output_type": "display_data"
    },
    {
     "data": {
      "application/vnd.jupyter.widget-view+json": {
       "model_id": "e00be966da6b474e999d690b7e920d5c"
      }
     },
     "metadata": {},
     "output_type": "display_data"
    },
    {
     "data": {
      "application/vnd.jupyter.widget-view+json": {
       "model_id": "e6b14acf620d4bd0aafcb8132c9a9f70"
      }
     },
     "metadata": {},
     "output_type": "display_data"
    },
    {
     "data": {
      "application/vnd.jupyter.widget-view+json": {
       "model_id": "0865b0e70c2b4bd3ae766e61a45a9ab9"
      }
     },
     "metadata": {},
     "output_type": "display_data"
    },
    {
     "data": {
      "application/vnd.jupyter.widget-view+json": {
       "model_id": "8b461e38b629435ca232fabf7e1a1767"
      }
     },
     "metadata": {},
     "output_type": "display_data"
    },
    {
     "data": {
      "application/vnd.jupyter.widget-view+json": {
       "model_id": "b2098085b3904c15903abbf5c4a5c8d4"
      }
     },
     "metadata": {},
     "output_type": "display_data"
    },
    {
     "data": {
      "application/vnd.jupyter.widget-view+json": {
       "model_id": "2ae870ab672b477eb3ff0350a1b1b6a2"
      }
     },
     "metadata": {},
     "output_type": "display_data"
    },
    {
     "data": {
      "application/vnd.jupyter.widget-view+json": {
       "model_id": "38af09b8ebc141249639ab6b0a57489d"
      }
     },
     "metadata": {},
     "output_type": "display_data"
    },
    {
     "data": {
      "application/vnd.jupyter.widget-view+json": {
       "model_id": "3d13ef886e4b45fc96029bc9b1017bb1"
      }
     },
     "metadata": {},
     "output_type": "display_data"
    },
    {
     "data": {
      "application/vnd.jupyter.widget-view+json": {
       "model_id": "1ae0eca00c6c4eb38648da3c01dcdca1"
      }
     },
     "metadata": {},
     "output_type": "display_data"
    },
    {
     "data": {
      "application/vnd.jupyter.widget-view+json": {
       "model_id": "5068d9866b004594a63dd4eeab74391c"
      }
     },
     "metadata": {},
     "output_type": "display_data"
    },
    {
     "data": {
      "application/vnd.jupyter.widget-view+json": {
       "model_id": "565f627abef8443a8ec761fa2b6a0075"
      }
     },
     "metadata": {},
     "output_type": "display_data"
    },
    {
     "data": {
      "application/vnd.jupyter.widget-view+json": {
       "model_id": "e32b1cd122064841ab0b5b657379bedc"
      }
     },
     "metadata": {},
     "output_type": "display_data"
    }
   ],
   "source": [
    "for i, wnid, name in tqdm_notebook(categories[last_id:], desc=\"Categories\"):\n",
    "    last_id = i\n",
    "    download_imagenet_category(wnid, path=\"imagenet_sample/{}_{}_{}\".format(str(i).zfill(3), wnid, name))"
   ]
  },
  {
   "cell_type": "code",
   "execution_count": null,
   "metadata": {},
   "outputs": [],
   "source": []
  }
 ],
 "metadata": {
  "kernelspec": {
   "display_name": "Python [conda root]",
   "language": "python",
   "name": "conda-root-py"
  },
  "language_info": {
   "codemirror_mode": {
    "name": "ipython",
    "version": 3
   },
   "file_extension": ".py",
   "mimetype": "text/x-python",
   "name": "python",
   "nbconvert_exporter": "python",
   "pygments_lexer": "ipython3",
   "version": "3.5.4"
  }
 },
 "nbformat": 4,
 "nbformat_minor": 2
}
