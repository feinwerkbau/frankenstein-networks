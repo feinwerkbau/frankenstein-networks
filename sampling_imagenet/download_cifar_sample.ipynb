{
 "cells": [
  {
   "cell_type": "code",
   "execution_count": 1,
   "metadata": {},
   "outputs": [],
   "source": [
    "import requests\n",
    "import cv2\n",
    "import json\n",
    "import os\n",
    "from tqdm import tqdm_notebook"
   ]
  },
  {
   "cell_type": "markdown",
   "metadata": {},
   "source": [
    "## Example\n",
    "\n",
    "* http://www.image-net.org/api/text/imagenet.synset.geturls?wnid=n04154340\n",
    "\n",
    "Classes from https://s3.amazonaws.com/deep-learning-models/image-models/imagenet_class_index.json"
   ]
  },
  {
   "cell_type": "code",
   "execution_count": 19,
   "metadata": {},
   "outputs": [],
   "source": [
    "r = requests.get(\"http://www.image-net.org/api/text/imagenet.synset.geturls\",\n",
    "                params={\"wnid\": \"n04154340\"})"
   ]
  },
  {
   "cell_type": "code",
   "execution_count": 27,
   "metadata": {},
   "outputs": [
    {
     "data": {
      "text/plain": [
       "56000"
      ]
     },
     "execution_count": 27,
     "metadata": {},
     "output_type": "execute_result"
    }
   ],
   "source": [
    "len(r.content)"
   ]
  },
  {
   "cell_type": "code",
   "execution_count": 3,
   "metadata": {},
   "outputs": [],
   "source": [
    "urls = r.content.decode(\"utf8\").split()"
   ]
  },
  {
   "cell_type": "code",
   "execution_count": 4,
   "metadata": {},
   "outputs": [
    {
     "data": {
      "text/plain": [
       "875"
      ]
     },
     "execution_count": 4,
     "metadata": {},
     "output_type": "execute_result"
    }
   ],
   "source": [
    "len(urls)"
   ]
  },
  {
   "cell_type": "code",
   "execution_count": 5,
   "metadata": {},
   "outputs": [
    {
     "data": {
      "text/plain": [
       "['http://www.oroshiuri.net/PERFUME/catalog/images/SCREW%20.jpg',\n",
       " 'http://www.made-in-china.com/image/2f0j00dBStFnMJQaWLM/Hexagon-Socket-Countersunk-Head-Screw-DIN-7991-.jpg',\n",
       " 'http://imghost.indiamart.com/data/2/M/ETO-1110388/leadscrew23_640x480.jpg',\n",
       " 'http://fasteningconcepts.com/Merchant2/graphics/00000001/screw5.jpg',\n",
       " 'http://www.bobvila.com/images/ProductServices/ProductDirectory/Tapcon.jpg']"
      ]
     },
     "execution_count": 5,
     "metadata": {},
     "output_type": "execute_result"
    }
   ],
   "source": [
    "urls[:5]"
   ]
  },
  {
   "cell_type": "code",
   "execution_count": 9,
   "metadata": {},
   "outputs": [
    {
     "data": {
      "text/plain": [
       "[(0, 'n01440764', 'tench'),\n",
       " (1, 'n01443537', 'goldfish'),\n",
       " (2, 'n01484850', 'great_white_shark'),\n",
       " (3, 'n01491361', 'tiger_shark'),\n",
       " (4, 'n01494475', 'hammerhead')]"
      ]
     },
     "execution_count": 9,
     "metadata": {},
     "output_type": "execute_result"
    }
   ],
   "source": [
    "with open(\"./imagenet_class_index.json\") as f:\n",
    "    categories_raw = json.load(f)\n",
    "    \n",
    "categories = [(int(k), v) for k, v in categories_raw.items()]\n",
    "categories = [tuple([k] + v) for k, v in sorted(categories)]\n",
    "categories[:5]"
   ]
  },
  {
   "cell_type": "markdown",
   "metadata": {},
   "source": [
    "## Action\n",
    "\n",
    "At least 7kB to prevent trivial things like \"This photo is no longer available\" (there were many those, ~1/4)."
   ]
  },
  {
   "cell_type": "code",
   "execution_count": 28,
   "metadata": {},
   "outputs": [],
   "source": [
    "def urlretrieve(url, filepath, timeout=10, min_siz_kB=7.):\n",
    "    with open(filepath, 'wb') as f:\n",
    "        content = requests.get(url, allow_redirects=True, timeout=timeout).content\n",
    "        if len(content) / 1024 > min_siz_kB:\n",
    "            f.write(requests.get(url, allow_redirects=True, timeout=timeout).content)\n",
    "        else:\n",
    "            raise Exception(\"Zu klein! {:.1f} kB\".format(len(content) / 1024))"
   ]
  },
  {
   "cell_type": "code",
   "execution_count": 29,
   "metadata": {},
   "outputs": [],
   "source": [
    "def download_imagenet_category(wnid=\"n04154340\",\n",
    "                               timeout=2,\n",
    "                               path=\"data/imgs\",\n",
    "                               resize=True,\n",
    "                               resize_to=(250, 250),\n",
    "                               limit=10):\n",
    "\n",
    "    r = requests.get(\"http://www.image-net.org/api/text/imagenet.synset.geturls\",\n",
    "                    params={\"wnid\": wnid})\n",
    "    urls = r.content.decode('utf-8').split()\n",
    "    # print(\"{wnid} ---> {path}\".format(wnid=wnid, path=path))\n",
    "\n",
    "    if not os.path.exists(path):\n",
    "        os.makedirs(path)\n",
    "\n",
    "    pic_num = 0\n",
    "    \n",
    "    tqdm_success = tqdm_notebook(total=limit, desc=\"{path} saved\".format(path=path), leave=False)\n",
    "    for url in tqdm_notebook(urls, desc=\"{path} tried\".format(path=path), leave=False):\n",
    "        try:\n",
    "            # print(url, end=\" ... \")\n",
    "            filepath = \"{path}/{pic_num}.jpg\".format(path=path, pic_num=pic_num)\n",
    "            urlretrieve(url, filepath, timeout=timeout)\n",
    "            # print(\"DONE!\")\n",
    "                    \n",
    "            if resize:\n",
    "                img = cv2.imread(filepath, cv2.IMREAD_GRAYSCALE)\n",
    "                resized_image = cv2.resize(img, resize_to)\n",
    "                cv2.imwrite(filepath, resized_image)\n",
    "\n",
    "            pic_num += 1\n",
    "            tqdm_success.update(n=1)\n",
    "            \n",
    "\n",
    "        except Exception as e:\n",
    "            pass\n",
    "            # print(str(e))\n",
    "            \n",
    "        if pic_num >= limit:\n",
    "            break\n",
    "            \n",
    "    tqdm_success.close()"
   ]
  },
  {
   "cell_type": "code",
   "execution_count": 16,
   "metadata": {},
   "outputs": [
    {
     "data": {
      "application/vnd.jupyter.widget-view+json": {
       "model_id": "ab5c681f494f4de9b0aea852b1637afd"
      }
     },
     "metadata": {},
     "output_type": "display_data"
    },
    {
     "data": {
      "application/vnd.jupyter.widget-view+json": {
       "model_id": "b1cfa4d699584eb8be3eb7b47e9eb2b7"
      }
     },
     "metadata": {},
     "output_type": "display_data"
    }
   ],
   "source": [
    "download_imagenet_category()"
   ]
  },
  {
   "cell_type": "code",
   "execution_count": 30,
   "metadata": {},
   "outputs": [],
   "source": [
    "last_id = 0  # for recovery"
   ]
  },
  {
   "cell_type": "code",
   "execution_count": null,
   "metadata": {},
   "outputs": [
    {
     "data": {
      "application/vnd.jupyter.widget-view+json": {
       "model_id": "1100b96a25f94baab21f3c4cc89fd18c"
      }
     },
     "metadata": {},
     "output_type": "display_data"
    },
    {
     "data": {
      "application/vnd.jupyter.widget-view+json": {
       "model_id": "b765db04ec3c431c869dc62579e98847"
      }
     },
     "metadata": {},
     "output_type": "display_data"
    },
    {
     "data": {
      "application/vnd.jupyter.widget-view+json": {
       "model_id": "7fe7772dad8f47eebb47fe8fb8ae87dd"
      }
     },
     "metadata": {},
     "output_type": "display_data"
    },
    {
     "data": {
      "application/vnd.jupyter.widget-view+json": {
       "model_id": "7db86772f1044cb2ade2d5dc5c1ae59a"
      }
     },
     "metadata": {},
     "output_type": "display_data"
    },
    {
     "data": {
      "application/vnd.jupyter.widget-view+json": {
       "model_id": "3ad9859bc5784583b641f4074e13e5bf"
      }
     },
     "metadata": {},
     "output_type": "display_data"
    }
   ],
   "source": [
    "for i, wnid, name in tqdm_notebook(categories[last_id:], desc=\"Categories\"):\n",
    "    last_id = i\n",
    "    download_imagenet_category(wnid, path=\"imagenet_sample/{}_{}_{}\".format(str(i).zfill(3), wnid, name))"
   ]
  },
  {
   "cell_type": "code",
   "execution_count": null,
   "metadata": {},
   "outputs": [],
   "source": []
  }
 ],
 "metadata": {
  "kernelspec": {
   "display_name": "Python [conda root]",
   "language": "python",
   "name": "conda-root-py"
  },
  "language_info": {
   "codemirror_mode": {
    "name": "ipython",
    "version": 3
   },
   "file_extension": ".py",
   "mimetype": "text/x-python",
   "name": "python",
   "nbconvert_exporter": "python",
   "pygments_lexer": "ipython3",
   "version": "3.5.4"
  }
 },
 "nbformat": 4,
 "nbformat_minor": 2
}
