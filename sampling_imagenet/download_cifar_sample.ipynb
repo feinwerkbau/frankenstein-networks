{
 "cells": [
  {
   "cell_type": "code",
   "execution_count": 30,
   "metadata": {},
   "outputs": [],
   "source": [
    "import requests\n",
    "import cv2\n",
    "import json\n",
    "import os\n",
    "from tqdm import tqdm_notebook"
   ]
  },
  {
   "cell_type": "markdown",
   "metadata": {},
   "source": [
    "## Example\n",
    "\n",
    "* http://www.image-net.org/api/text/imagenet.synset.geturls?wnid=n04154340"
   ]
  },
  {
   "cell_type": "code",
   "execution_count": 3,
   "metadata": {},
   "outputs": [],
   "source": [
    "r = requests.get(\"http://www.image-net.org/api/text/imagenet.synset.geturls\",\n",
    "                params={\"wnid\": \"n04154340\"})"
   ]
  },
  {
   "cell_type": "code",
   "execution_count": 26,
   "metadata": {},
   "outputs": [],
   "source": [
    "urls = r.content.decode(\"utf8\").split()"
   ]
  },
  {
   "cell_type": "code",
   "execution_count": 27,
   "metadata": {},
   "outputs": [
    {
     "data": {
      "text/plain": [
       "875"
      ]
     },
     "execution_count": 27,
     "metadata": {},
     "output_type": "execute_result"
    }
   ],
   "source": [
    "len(urls)"
   ]
  },
  {
   "cell_type": "code",
   "execution_count": 29,
   "metadata": {},
   "outputs": [
    {
     "data": {
      "text/plain": [
       "['http://www.oroshiuri.net/PERFUME/catalog/images/SCREW%20.jpg',\n",
       " 'http://www.made-in-china.com/image/2f0j00dBStFnMJQaWLM/Hexagon-Socket-Countersunk-Head-Screw-DIN-7991-.jpg',\n",
       " 'http://imghost.indiamart.com/data/2/M/ETO-1110388/leadscrew23_640x480.jpg',\n",
       " 'http://fasteningconcepts.com/Merchant2/graphics/00000001/screw5.jpg',\n",
       " 'http://www.bobvila.com/images/ProductServices/ProductDirectory/Tapcon.jpg']"
      ]
     },
     "execution_count": 29,
     "metadata": {},
     "output_type": "execute_result"
    }
   ],
   "source": [
    "urls[:5]"
   ]
  },
  {
   "cell_type": "code",
   "execution_count": 55,
   "metadata": {},
   "outputs": [
    {
     "data": {
      "text/plain": [
       "dict_items([('208', ['n02099712', 'Labrador_retriever']), ('211', ['n02100583', 'vizsla']), ('640', ['n03717622', 'manhole_cover']), ('147', ['n02066245', 'grey_whale']), ('19', ['n01592084', 'chickadee']), ('744', ['n04008634', 'projectile']), ('577', ['n03447721', 'gong']), ('534', ['n03207941', 'dishwasher']), ('449', ['n02859443', 'boathouse']), ('271', ['n02114712', 'red_wolf']), ('12', ['n01532829', 'house_finch']), ('631', ['n03690938', 'lotion']), ('69', ['n01768244', 'trilobite']), ('800', ['n04243546', 'slot']), ('825', ['n04326547', 'stone_wall']), ('935', ['n07711569', 'mashed_potato']), ('72', ['n01773157', 'black_and_gold_garden_spider']), ('185', ['n02094114', 'Norfolk_terrier']), ('562', ['n03388043', 'fountain']), ('494', ['n03017168', 'chime']), ('88', ['n01818515', 'macaw']), ('405', ['n02692877', 'airship']), ('376', ['n02489166', 'proboscis_monkey']), ('961', ['n07860988', 'dough']), ('600', ['n03532672', 'hook']), ('284', ['n02123597', 'Siamese_cat']), ('642', ['n03721384', 'marimba']), ('84', ['n01806143', 'peacock']), ('302', ['n02167151', 'ground_beetle']), ('612', ['n03599486', 'jinrikisha']), ('146', ['n02058221', 'albatross']), ('463', ['n02909870', 'bucket']), ('45', ['n01692333', 'Gila_monster']), ('0', ['n01440764', 'tench']), ('384', ['n02500267', 'indri']), ('775', ['n04136333', 'sarong']), ('762', ['n04081281', 'restaurant']), ('720', ['n03937543', 'pill_bottle']), ('109', ['n01917289', 'brain_coral']), ('238', ['n02107574', 'Greater_Swiss_Mountain_dog']), ('468', ['n02930766', 'cab']), ('525', ['n03160309', 'dam']), ('362', ['n02447366', 'badger']), ('764', ['n04090263', 'rifle']), ('839', ['n04366367', 'suspension_bridge']), ('36', ['n01667778', 'terrapin']), ('41', ['n01685808', 'whiptail']), ('401', ['n02672831', 'accordion']), ('728', ['n03958227', 'plastic_bag']), ('410', ['n02727426', 'apiary']), ('889', ['n04536866', 'violin']), ('743', ['n04005630', 'prison']), ('821', ['n04311004', 'steel_arch_bridge']), ('823', ['n04317175', 'stethoscope']), ('404', ['n02690373', 'airliner']), ('13', ['n01534433', 'junco']), ('485', ['n02988304', 'CD_player']), ('361', ['n02445715', 'skunk']), ('108', ['n01914609', 'sea_anemone']), ('389', ['n02514041', 'barracouta']), ('192', ['n02096177', 'cairn']), ('254', ['n02110958', 'pug']), ('699', ['n03884397', 'panpipe']), ('648', ['n03742115', 'medicine_chest']), ('893', ['n04548362', 'wallet']), ('982', ['n10148035', 'groom']), ('805', ['n04254680', 'soccer_ball']), ('95', ['n01843065', 'jacamar']), ('582', ['n03461385', 'grocery_store']), ('423', ['n02791124', 'barber_chair']), ('996', ['n13052670', 'hen-of-the-woods']), ('780', ['n04147183', 'schooner']), ('932', ['n07695742', 'pretzel']), ('142', ['n02033041', 'dowitcher']), ('187', ['n02094433', 'Yorkshire_terrier']), ('246', ['n02109047', 'Great_Dane']), ('340', ['n02391049', 'zebra']), ('698', ['n03877845', 'palace']), ('937', ['n07714990', 'broccoli']), ('29', ['n01632777', 'axolotl']), ('834', ['n04350905', 'suit']), ('842', ['n04371430', 'swimming_trunks']), ('569', ['n03417042', 'garbage_truck']), ('181', ['n02093647', 'Bedlington_terrier']), ('446', ['n02840245', 'binder']), ('827', ['n04330267', 'stove']), ('633', ['n03692522', 'loupe']), ('552', ['n03325584', 'feather_boa']), ('198', ['n02097209', 'standard_schnauzer']), ('329', ['n02321529', 'sea_cucumber']), ('450', ['n02860847', 'bobsled']), ('726', ['n03954731', 'plane']), ('428', ['n02797295', 'barrow']), ('167', ['n02089973', 'English_foxhound']), ('64', ['n01749939', 'green_mamba']), ('218', ['n02102177', 'Welsh_springer_spaniel']), ('509', ['n03089624', 'confectionery']), ('20', ['n01601694', 'water_ouzel']), ('816', ['n04277352', 'spindle']), ('928', ['n07614500', 'ice_cream']), ('665', ['n03785016', 'moped']), ('172', ['n02091134', 'whippet']), ('14', ['n01537544', 'indigo_bunting']), ('149', ['n02074367', 'dugong']), ('8', ['n01514859', 'hen']), ('592', ['n03492542', 'hard_disc']), ('706', ['n03899768', 'patio']), ('257', ['n02111500', 'Great_Pyrenees']), ('195', ['n02096585', 'Boston_bull']), ('946', ['n07730033', 'cardoon']), ('977', ['n09421951', 'sandbar']), ('927', ['n07613480', 'trifle']), ('860', ['n04443257', 'tobacco_shop']), ('934', ['n07697537', 'hotdog']), ('708', ['n03903868', 'pedestal']), ('196', ['n02097047', 'miniature_schnauzer']), ('871', ['n04483307', 'trimaran']), ('47', ['n01694178', 'African_chameleon']), ('488', ['n02999410', 'chain']), ('314', ['n02233338', 'cockroach']), ('951', ['n07749582', 'lemon']), ('425', ['n02793495', 'barn']), ('417', ['n02782093', 'balloon']), ('92', ['n01828970', 'bee_eater']), ('734', ['n03977966', 'police_van']), ('527', ['n03180011', 'desktop_computer']), ('664', ['n03782006', 'monitor']), ('883', ['n04522168', 'vase']), ('159', ['n02087394', 'Rhodesian_ridgeback']), ('413', ['n02749479', 'assault_rifle']), ('505', ['n03063689', 'coffeepot']), ('748', ['n04026417', 'purse']), ('24', ['n01622779', 'great_grey_owl']), ('445', ['n02837789', 'bikini']), ('128', ['n02002724', 'black_stork']), ('949', ['n07745940', 'strawberry']), ('163', ['n02088466', 'bloodhound']), ('206', ['n02099429', 'curly-coated_retriever']), ('455', ['n02877765', 'bottlecap']), ('253', ['n02110806', 'basenji']), ('295', ['n02133161', 'American_black_bear']), ('990', ['n12768682', 'buckeye']), ('420', ['n02787622', 'banjo']), ('514', ['n03124043', 'cowboy_boot']), ('278', ['n02119789', 'kit_fox']), ('1', ['n01443537', 'goldfish']), ('352', ['n02422699', 'impala']), ('696', ['n03876231', 'paintbrush']), ('511', ['n03100240', 'convertible']), ('242', ['n02108089', 'boxer']), ('464', ['n02910353', 'buckle']), ('894', ['n04550184', 'wardrobe']), ('487', ['n02992529', 'cellular_telephone']), ('342', ['n02396427', 'wild_boar']), ('908', ['n04592741', 'wing']), ('402', ['n02676566', 'acoustic_guitar']), ('503', ['n03062245', 'cocktail_shaker']), ('645', ['n03733131', 'maypole']), ('244', ['n02108551', 'Tibetan_mastiff']), ('629', ['n03676483', 'lipstick']), ('235', ['n02106662', 'German_shepherd']), ('807', ['n04258138', 'solar_dish']), ('458', ['n02892201', 'brass']), ('515', ['n03124170', 'cowboy_hat']), ('317', ['n02259212', 'leafhopper']), ('493', ['n03016953', 'chiffonier']), ('875', ['n04487394', 'trombone']), ('136', ['n02017213', 'European_gallinule']), ('113', ['n01944390', 'snail']), ('330', ['n02325366', 'wood_rabbit']), ('634', ['n03697007', 'lumbermill']), ('733', ['n03976657', 'pole']), ('536', ['n03216828', 'dock']), ('759', ['n04069434', 'reflex_camera']), ('605', ['n03584254', 'iPod']), ('880', ['n04509417', 'unicycle']), ('298', ['n02137549', 'mongoose']), ('292', ['n02129604', 'tiger']), ('953', ['n07753275', 'pineapple']), ('793', ['n04209133', 'shower_cap']), ('310', ['n02219486', 'ant']), ('903', ['n04584207', 'wig']), ('350', ['n02417914', 'ibex']), ('205', ['n02099267', 'flat-coated_retriever']), ('905', ['n04590129', 'window_shade']), ('567', ['n03400231', 'frying_pan']), ('623', ['n03658185', 'letter_opener']), ('280', ['n02120505', 'grey_fox']), ('347', ['n02410509', 'bison']), ('819', ['n04296562', 'stage']), ('439', ['n02817516', 'bearskin']), ('33', ['n01664065', 'loggerhead']), ('836', ['n04355933', 'sunglass']), ('526', ['n03179701', 'desk']), ('193', ['n02096294', 'Australian_terrier']), ('874', ['n04487081', 'trolleybus']), ('879', ['n04507155', 'umbrella']), ('784', ['n04154565', 'screwdriver']), ('421', ['n02788148', 'bannister']), ('321', ['n02276258', 'admiral']), ('700', ['n03887697', 'paper_towel']), ('303', ['n02168699', 'long-horned_beetle']), ('293', ['n02130308', 'cheetah']), ('999', ['n15075141', 'toilet_tissue']), ('967', ['n07920052', 'espresso']), ('630', ['n03680355', 'Loafer']), ('820', ['n04310018', 'steam_locomotive']), ('275', ['n02116738', 'African_hunting_dog']), ('538', ['n03220513', 'dome']), ('575', ['n03445924', 'golfcart']), ('929', ['n07615774', 'ice_lolly']), ('849', ['n04398044', 'teapot']), ('369', ['n02483708', 'siamang']), ('500', ['n03042490', 'cliff_dwelling']), ('442', ['n02825657', 'bell_cote']), ('197', ['n02097130', 'giant_schnauzer']), ('768', ['n04118538', 'rugby_ball']), ('651', ['n03761084', 'microwave']), ('50', ['n01698640', 'American_alligator']), ('923', ['n07579787', 'plate']), ('943', ['n07718472', 'cucumber']), ('537', ['n03218198', 'dogsled']), ('840', ['n04367480', 'swab']), ('530', ['n03196217', 'digital_clock']), ('396', ['n02643566', 'lionfish']), ('325', ['n02281406', 'sulphur_butterfly']), ('599', ['n03530642', 'honeycomb']), ('855', ['n04423845', 'thimble']), ('273', ['n02115641', 'dingo']), ('828', ['n04332243', 'strainer']), ('789', ['n04201297', 'shoji']), ('199', ['n02097298', 'Scotch_terrier']), ('87', ['n01817953', 'African_grey']), ('695', ['n03874599', 'padlock']), ('71', ['n01770393', 'scorpion']), ('848', ['n04392985', 'tape_player']), ('46', ['n01693334', 'green_lizard']), ('732', ['n03976467', 'Polaroid_camera']), ('372', ['n02486410', 'baboon']), ('482', ['n02979186', 'cassette_player']), ('476', ['n02966193', 'carousel']), ('896', ['n04553703', 'washbasin']), ('262', ['n02112706', 'Brabancon_griffon']), ('320', ['n02268853', 'damselfly']), ('114', ['n01945685', 'slug']), ('477', ['n02966687', \"carpenter's_kit\"]), ('952', ['n07753113', 'fig']), ('680', ['n03825788', 'nipple']), ('727', ['n03956157', 'planetarium']), ('844', ['n04372370', 'switch']), ('616', ['n03627232', 'knot']), ('676', ['n03803284', 'muzzle']), ('606', ['n03584829', 'iron']), ('881', ['n04515003', 'upright']), ('58', ['n01737021', 'water_snake']), ('974', ['n09288635', 'geyser']), ('948', ['n07742313', 'Granny_Smith']), ('111', ['n01930112', 'nematode']), ('300', ['n02165105', 'tiger_beetle']), ('854', ['n04418357', 'theater_curtain']), ('135', ['n02013706', 'limpkin']), ('349', ['n02415577', 'bighorn']), ('955', ['n07754684', 'jackfruit']), ('133', ['n02011460', 'bittern']), ('866', ['n04465501', 'tractor']), ('899', ['n04560804', 'water_jug']), ('682', ['n03837869', 'obelisk']), ('568', ['n03404251', 'fur_coat']), ('504', ['n03063599', 'coffee_mug']), ('863', ['n04458633', 'totem_pole']), ('954', ['n07753592', 'banana']), ('587', ['n03481172', 'hammer']), ('44', ['n01689811', 'alligator_lizard']), ('179', ['n02093256', 'Staffordshire_bullterrier']), ('25', ['n01629819', 'European_fire_salamander']), ('721', ['n03938244', 'pillow']), ('6', ['n01498041', 'stingray']), ('911', ['n04599235', 'wool']), ('355', ['n02437616', 'llama']), ('204', ['n02098413', 'Lhasa']), ('964', ['n07875152', 'potpie']), ('65', ['n01751748', 'sea_snake']), ('925', ['n07584110', 'consomme']), ('304', ['n02169497', 'leaf_beetle']), ('434', ['n02808304', 'bath_towel']), ('165', ['n02089078', 'black-and-tan_coonhound']), ('755', ['n04044716', 'radio_telescope']), ('693', ['n03873416', 'paddle']), ('915', ['n04613696', 'yurt']), ('241', ['n02108000', 'EntleBucher']), ('976', ['n09399592', 'promontory']), ('851', ['n04404412', 'television']), ('670', ['n03791053', 'motor_scooter']), ('408', ['n02704792', 'amphibian']), ('916', ['n06359193', 'web_site']), ('55', ['n01729977', 'green_snake']), ('90', ['n01820546', 'lorikeet']), ('267', ['n02113799', 'standard_poodle']), ('868', ['n04476259', 'tray']), ('959', ['n07831146', 'carbonara']), ('686', ['n03843555', 'oil_filter']), ('675', ['n03796401', 'moving_van']), ('763', ['n04086273', 'revolver']), ('51', ['n01704323', 'triceratops']), ('679', ['n03814906', 'necklace']), ('171', ['n02091032', 'Italian_greyhound']), ('132', ['n02009912', 'American_egret']), ('975', ['n09332890', 'lakeside']), ('182', ['n02093754', 'Border_terrier']), ('588', ['n03482405', 'hamper']), ('398', ['n02666196', 'abacus']), ('354', ['n02437312', 'Arabian_camel']), ('857', ['n04429376', 'throne']), ('400', ['n02669723', 'academic_gown']), ('653', ['n03764736', 'milk_can']), ('17', ['n01580077', 'jay']), ('625', ['n03662601', 'lifeboat']), ('438', ['n02815834', 'beaker']), ('585', ['n03476991', 'hair_spray']), ('991', ['n12985857', 'coral_fungus']), ('718', ['n03933933', 'pier']), ('155', ['n02086240', 'Shih-Tzu']), ('830', ['n04336792', 'stretcher']), ('98', ['n01855032', 'red-breasted_merganser']), ('751', ['n04037443', 'racer']), ('269', ['n02114367', 'timber_wolf']), ('170', ['n02090721', 'Irish_wolfhound']), ('346', ['n02408429', 'water_buffalo']), ('508', ['n03085013', 'computer_keyboard']), ('407', ['n02701002', 'ambulance']), ('593', ['n03494278', 'harmonica']), ('691', ['n03868863', 'oxygen_mask']), ('904', ['n04589890', 'window_screen']), ('62', ['n01744401', 'rock_python']), ('681', ['n03832673', 'notebook']), ('745', ['n04009552', 'projector']), ('817', ['n04285008', 'sports_car']), ('506', ['n03065424', 'coil']), ('16', ['n01560419', 'bulbul']), ('947', ['n07734744', 'mushroom']), ('52', ['n01728572', 'thunder_snake']), ('137', ['n02018207', 'American_coot']), ('217', ['n02102040', 'English_springer']), ('119', ['n01978455', 'rock_crab']), ('341', ['n02395406', 'hog']), ('712', ['n03920288', 'Petri_dish']), ('469', ['n02939185', 'caldron']), ('962', ['n07871810', 'meat_loaf']), ('882', ['n04517823', 'vacuum']), ('998', ['n13133613', 'ear']), ('792', ['n04208210', 'shovel']), ('607', ['n03590841', \"jack-o'-lantern\"]), ('637', ['n03710193', 'mailbox']), ('335', ['n02356798', 'fox_squirrel']), ('443', ['n02834397', 'bib']), ('814', ['n04273569', 'speedboat']), ('77', ['n01775062', 'wolf_spider']), ('790', ['n04204238', 'shopping_basket']), ('542', ['n03250847', 'drumstick']), ('447', ['n02841315', 'binoculars']), ('754', ['n04041544', 'radio']), ('997', ['n13054560', 'bolete']), ('437', ['n02814860', 'beacon']), ('518', ['n03127747', 'crash_helmet']), ('74', ['n01773797', 'garden_spider']), ('356', ['n02441942', 'weasel']), ('433', ['n02807133', 'bathing_cap']), ('343', ['n02397096', 'warthog']), ('444', ['n02835271', 'bicycle-built-for-two']), ('532', ['n03201208', 'dining_table']), ('666', ['n03786901', 'mortar']), ('551', ['n03314780', 'face_powder']), ('203', ['n02098286', 'West_Highland_white_terrier']), ('663', ['n03781244', 'monastery']), ('806', ['n04254777', 'sock']), ('252', ['n02110627', 'affenpinscher']), ('175', ['n02091635', 'otterhound']), ('811', ['n04265275', 'space_heater']), ('724', ['n03947888', 'pirate']), ('386', ['n02504458', 'African_elephant']), ('403', ['n02687172', 'aircraft_carrier']), ('674', ['n03794056', 'mousetrap']), ('334', ['n02346627', 'porcupine']), ('9', ['n01518878', 'ostrich']), ('617', ['n03630383', 'lab_coat']), ('200', ['n02097474', 'Tibetan_terrier']), ('183', ['n02093859', 'Kerry_blue_terrier']), ('901', ['n04579145', 'whiskey_jug']), ('21', ['n01608432', 'kite']), ('156', ['n02086646', 'Blenheim_spaniel']), ('134', ['n02012849', 'crane']), ('131', ['n02009229', 'little_blue_heron']), ('673', ['n03793489', 'mouse']), ('220', ['n02102480', 'Sussex_spaniel']), ('687', ['n03854065', 'organ']), ('40', ['n01682714', 'American_chameleon']), ('491', ['n03000684', 'chain_saw']), ('481', ['n02978881', 'cassette']), ('970', ['n09193705', 'alp']), ('221', ['n02102973', 'Irish_water_spaniel']), ('753', ['n04040759', 'radiator']), ('66', ['n01753488', 'horned_viper']), ('85', ['n01806567', 'quail']), ('914', ['n04612504', 'yawl']), ('521', ['n03133878', 'Crock_Pot']), ('440', ['n02823428', 'beer_bottle']), ('313', ['n02231487', 'walking_stick']), ('541', ['n03249569', 'drum']), ('626', ['n03666591', 'lighter']), ('427', ['n02795169', 'barrel']), ('459', ['n02892767', 'brassiere']), ('545', ['n03271574', 'electric_fan']), ('265', ['n02113624', 'toy_poodle']), ('993', ['n13037406', 'gyromitra']), ('255', ['n02111129', 'Leonberg']), ('771', ['n04125021', 'safe']), ('461', ['n02895154', 'breastplate']), ('326', ['n02281787', 'lycaenid']), ('738', ['n03991062', 'pot']), ('608', ['n03594734', 'jean']), ('767', ['n04116512', 'rubber_eraser']), ('145', ['n02056570', 'king_penguin']), ('201', ['n02097658', 'silky_terrier']), ('387', ['n02509815', 'lesser_panda']), ('641', ['n03720891', 'maraca']), ('480', ['n02977058', 'cash_machine']), ('824', ['n04325704', 'stole']), ('938', ['n07715103', 'cauliflower']), ('662', ['n03777754', 'modem']), ('543', ['n03255030', 'dumbbell']), ('357', ['n02442845', 'mink']), ('392', ['n02606052', 'rock_beauty']), ('454', ['n02871525', 'bookshop']), ('225', ['n02105162', 'malinois']), ('60', ['n01740131', 'night_snake']), ('116', ['n01955084', 'chiton']), ('614', ['n03617480', 'kimono']), ('53', ['n01728920', 'ringneck_snake']), ('779', ['n04146614', 'school_bus']), ('659', ['n03775546', 'mixing_bowl']), ('668', ['n03788195', 'mosque']), ('589', ['n03483316', 'hand_blower']), ('661', ['n03777568', 'Model_T']), ('475', ['n02965783', 'car_mirror']), ('535', ['n03208938', 'disk_brake']), ('512', ['n03109150', 'corkscrew']), ('628', ['n03673027', 'liner']), ('222', ['n02104029', 'kuvasz']), ('841', ['n04370456', 'sweatshirt']), ('435', ['n02808440', 'bathtub']), ('692', ['n03871628', 'packet']), ('876', ['n04493381', 'tub']), ('359', ['n02443484', 'black-footed_ferret']), ('683', ['n03838899', 'oboe']), ('973', ['n09256479', 'coral_reef']), ('772', ['n04127249', 'safety_pin']), ('831', ['n04344873', 'studio_couch']), ('638', ['n03710637', 'maillot']), ('737', ['n03983396', 'pop_bottle']), ('619', ['n03637318', 'lampshade']), ('553', ['n03337140', 'file']), ('495', ['n03018349', 'china_cabinet']), ('315', ['n02236044', 'mantis']), ('596', ['n03498962', 'hatchet']), ('678', ['n03814639', 'neck_brace']), ('236', ['n02107142', 'Doberman']), ('910', ['n04597913', 'wooden_spoon']), ('845', ['n04376876', 'syringe']), ('912', ['n04604644', 'worm_fence']), ('756', ['n04049303', 'rain_barrel']), ('810', ['n04264628', 'space_bar']), ('7', ['n01514668', 'cock']), ('705', ['n03895866', 'passenger_car']), ('106', ['n01883070', 'wombat']), ('988', ['n12267677', 'acorn']), ('717', ['n03930630', 'pickup']), ('281', ['n02123045', 'tabby']), ('649', ['n03743016', 'megalith']), ('872', ['n04485082', 'tripod']), ('613', ['n03602883', 'joystick']), ('558', ['n03372029', 'flute']), ('522', ['n03134739', 'croquet_ball']), ('611', ['n03598930', 'jigsaw_puzzle']), ('890', ['n04540053', 'volleyball']), ('388', ['n02510455', 'giant_panda']), ('35', ['n01667114', 'mud_turtle']), ('958', ['n07802026', 'hay']), ('415', ['n02776631', 'bakery']), ('243', ['n02108422', 'bull_mastiff']), ('23', ['n01616318', 'vulture']), ('972', ['n09246464', 'cliff']), ('191', ['n02096051', 'Airedale']), ('380', ['n02493509', 'titi']), ('82', ['n01797886', 'ruffed_grouse']), ('707', ['n03902125', 'pay-phone']), ('276', ['n02117135', 'hyena']), ('324', ['n02280649', 'cabbage_butterfly']), ('215', ['n02101388', 'Brittany_spaniel']), ('808', ['n04259630', 'sombrero']), ('980', ['n09472597', 'volcano']), ('917', ['n06596364', 'comic_book']), ('364', ['n02457408', 'three-toed_sloth']), ('703', ['n03891251', 'park_bench']), ('279', ['n02120079', 'Arctic_fox']), ('27', ['n01631663', 'eft']), ('859', ['n04442312', 'toaster']), ('383', ['n02497673', 'Madagascar_cat']), ('913', ['n04606251', 'wreck']), ('524', ['n03146219', 'cuirass']), ('80', ['n01795545', 'black_grouse']), ('73', ['n01773549', 'barn_spider']), ('399', ['n02667093', 'abaya']), ('725', ['n03950228', 'pitcher']), ('529', ['n03188531', 'diaper']), ('239', ['n02107683', 'Bernese_mountain_dog']), ('787', ['n04192698', 'shield']), ('157', ['n02086910', 'papillon']), ('223', ['n02104365', 'schipperke']), ('247', ['n02109525', 'Saint_Bernard']), ('10', ['n01530575', 'brambling']), ('757', ['n04065272', 'recreational_vehicle']), ('162', ['n02088364', 'beagle']), ('120', ['n01980166', 'fiddler_crab']), ('268', ['n02113978', 'Mexican_hairless']), ('190', ['n02095889', 'Sealyham_terrier']), ('15', ['n01558993', 'robin']), ('539', ['n03223299', 'doormat']), ('61', ['n01742172', 'boa_constrictor']), ('922', ['n07565083', 'menu']), ('288', ['n02128385', 'leopard']), ('49', ['n01697457', 'African_crocodile']), ('237', ['n02107312', 'miniature_pinscher']), ('91', ['n01824575', 'coucal']), ('710', ['n03908714', 'pencil_sharpener']), ('161', ['n02088238', 'basset']), ('97', ['n01847000', 'drake']), ('965', ['n07880968', 'burrito']), ('344', ['n02398521', 'hippopotamus']), ('168', ['n02090379', 'redbone']), ('332', ['n02328150', 'Angora']), ('730', ['n03967562', 'plow']), ('722', ['n03942813', 'ping-pong_ball']), ('565', ['n03393912', 'freight_car']), ('940', ['n07716906', 'spaghetti_squash']), ('286', ['n02125311', 'cougar']), ('158', ['n02087046', 'toy_terrier']), ('479', ['n02974003', 'car_wheel']), ('595', ['n03496892', 'harvester']), ('107', ['n01910747', 'jellyfish']), ('865', ['n04462240', 'toyshop']), ('299', ['n02138441', 'meerkat']), ('245', ['n02108915', 'French_bulldog']), ('322', ['n02277742', 'ringlet']), ('30', ['n01641577', 'bullfrog']), ('248', ['n02109961', 'Eskimo_dog']), ('704', ['n03891332', 'parking_meter']), ('141', ['n02028035', 'redshank']), ('418', ['n02783161', 'ballpoint']), ('471', ['n02950826', 'cannon']), ('390', ['n02526121', 'eel']), ('774', ['n04133789', 'sandal']), ('127', ['n02002556', 'white_stork']), ('735', ['n03980874', 'poncho']), ('368', ['n02483362', 'gibbon']), ('57', ['n01735189', 'garter_snake']), ('741', ['n03998194', 'prayer_rug']), ('739', ['n03992509', \"potter's_wheel\"]), ('702', ['n03888605', 'parallel_bars']), ('395', ['n02641379', 'gar']), ('67', ['n01755581', 'diamondback']), ('822', ['n04311174', 'steel_drum']), ('740', ['n03995372', 'power_drill']), ('441', ['n02823750', 'beer_glass']), ('643', ['n03724870', 'mask']), ('270', ['n02114548', 'white_wolf']), ('884', ['n04523525', 'vault']), ('690', ['n03868242', 'oxcart']), ('783', ['n04153751', 'screw']), ('231', ['n02106030', 'collie']), ('799', ['n04239074', 'sliding_door']), ('37', ['n01669191', 'box_turtle']), ('603', ['n03538406', 'horse_cart']), ('105', ['n01882714', 'koala']), ('791', ['n04204347', 'shopping_cart']), ('309', ['n02206856', 'bee']), ('406', ['n02699494', 'altar']), ('556', ['n03347037', 'fire_screen']), ('583', ['n03467068', 'guillotine']), ('333', ['n02342885', 'hamster']), ('861', ['n04447861', 'toilet_seat']), ('224', ['n02105056', 'groenendael']), ('713', ['n03924679', 'photocopier']), ('933', ['n07697313', 'cheeseburger']), ('409', ['n02708093', 'analog_clock']), ('126', ['n01990800', 'isopod']), ('891', ['n04542943', 'waffle_iron']), ('412', ['n02747177', 'ashcan']), ('466', ['n02917067', 'bullet_train']), ('920', ['n06874185', 'traffic_light']), ('715', ['n03929855', 'pickelhaube']), ('566', ['n03394916', 'French_horn']), ('550', ['n03297495', 'espresso_maker']), ('847', ['n04389033', 'tank']), ('572', ['n03443371', 'goblet']), ('414', ['n02769748', 'backpack']), ('202', ['n02098105', 'soft-coated_wheaten_terrier']), ('781', ['n04149813', 'scoreboard']), ('984', ['n11879895', 'rapeseed']), ('685', ['n03841143', 'odometer']), ('394', ['n02640242', 'sturgeon']), ('251', ['n02110341', 'dalmatian']), ('431', ['n02804414', 'bassinet']), ('486', ['n02992211', 'cello']), ('716', ['n03930313', 'picket_fence']), ('121', ['n01981276', 'king_crab']), ('370', ['n02484975', 'guenon']), ('249', ['n02110063', 'malamute']), ('684', ['n03840681', 'ocarina']), ('153', ['n02085936', 'Maltese_dog']), ('258', ['n02111889', 'Samoyed']), ('452', ['n02869837', 'bonnet']), ('846', ['n04380533', 'table_lamp']), ('878', ['n04505470', 'typewriter_keyboard']), ('188', ['n02095314', 'wire-haired_fox_terrier']), ('862', ['n04456115', 'torch']), ('971', ['n09229709', 'bubble']), ('338', ['n02364673', 'guinea_pig']), ('259', ['n02112018', 'Pomeranian']), ('749', ['n04033901', 'quill']), ('987', ['n12144580', 'corn']), ('373', ['n02487347', 'macaque']), ('194', ['n02096437', 'Dandie_Dinmont']), ('746', ['n04019541', 'puck']), ('138', ['n02018795', 'bustard']), ('323', ['n02279972', 'monarch']), ('978', ['n09428293', 'seashore']), ('460', ['n02894605', 'breakwater']), ('301', ['n02165456', 'ladybug']), ('274', ['n02115913', 'dhole']), ('411', ['n02730930', 'apron']), ('173', ['n02091244', 'Ibizan_hound']), ('336', ['n02361337', 'marmot']), ('328', ['n02319095', 'sea_urchin']), ('112', ['n01943899', 'conch']), ('594', ['n03495258', 'harp']), ('99', ['n01855672', 'goose']), ('308', ['n02190166', 'fly']), ('319', ['n02268443', 'dragonfly']), ('523', ['n03141823', 'crutch']), ('177', ['n02092002', 'Scottish_deerhound']), ('557', ['n03355925', 'flagpole']), ('936', ['n07714571', 'head_cabbage']), ('930', ['n07684084', 'French_loaf']), ('502', ['n03047690', 'clog']), ('919', ['n06794110', 'street_sign']), ('93', ['n01829413', 'hornbill']), ('924', ['n07583066', 'guacamole']), ('803', ['n04252225', 'snowplow']), ('635', ['n03706229', 'magnetic_compass']), ('709', ['n03908618', 'pencil_box']), ('174', ['n02091467', 'Norwegian_elkhound']), ('766', ['n04111531', 'rotisserie']), ('492', ['n03014705', 'chest']), ('385', ['n02504013', 'Indian_elephant']), ('555', ['n03345487', 'fire_engine']), ('584', ['n03476684', 'hair_slide']), ('312', ['n02229544', 'cricket']), ('697', ['n03877472', 'pajama']), ('507', ['n03075370', 'combination_lock']), ('22', ['n01614925', 'bald_eagle']), ('897', ['n04554684', 'washer']), ('886', ['n04525305', 'vending_machine']), ('888', ['n04532670', 'viaduct']), ('877', ['n04501370', 'turnstile']), ('926', ['n07590611', 'hot_pot']), ('667', ['n03787032', 'mortarboard']), ('655', ['n03770439', 'miniskirt']), ('852', ['n04409515', 'tennis_ball']), ('672', ['n03792972', 'mountain_tent']), ('151', ['n02085620', 'Chihuahua']), ('979', ['n09468604', 'valley']), ('671', ['n03792782', 'mountain_bike']), ('829', ['n04335435', 'streetcar']), ('366', ['n02480855', 'gorilla']), ('968', ['n07930864', 'cup']), ('467', ['n02927161', 'butcher_shop']), ('547', ['n03272562', 'electric_locomotive']), ('285', ['n02124075', 'Egyptian_cat']), ('909', ['n04596742', 'wok']), ('785', ['n04162706', 'seat_belt']), ('564', ['n03388549', 'four-poster']), ('189', ['n02095570', 'Lakeland_terrier']), ('34', ['n01665541', 'leatherback_turtle']), ('360', ['n02444819', 'otter']), ('186', ['n02094258', 'Norwich_terrier']), ('574', ['n03445777', 'golf_ball']), ('42', ['n01687978', 'agama']), ('234', ['n02106550', 'Rottweiler']), ('850', ['n04399382', 'teddy']), ('533', ['n03207743', 'dishrag']), ('430', ['n02802426', 'basketball']), ('688', ['n03857828', 'oscilloscope']), ('832', ['n04346328', 'stupa']), ('102', ['n01872401', 'echidna']), ('143', ['n02037110', 'oystercatcher']), ('560', ['n03379051', 'football_helmet']), ('129', ['n02006656', 'spoonbill']), ('180', ['n02093428', 'American_Staffordshire_terrier']), ('348', ['n02412080', 'ram']), ('296', ['n02134084', 'ice_bear']), ('719', ['n03935335', 'piggy_bank']), ('424', ['n02791270', 'barbershop']), ('777', ['n04141327', 'scabbard']), ('624', ['n03661043', 'library']), ('546', ['n03272010', 'electric_guitar']), ('154', ['n02086079', 'Pekinese']), ('939', ['n07716358', 'zucchini']), ('32', ['n01644900', 'tailed_frog']), ('516', ['n03125729', 'cradle']), ('331', ['n02326432', 'hare']), ('89', ['n01819313', 'sulphur-crested_cockatoo']), ('520', ['n03131574', 'crib']), ('11', ['n01531178', 'goldfinch']), ('983', ['n10565667', 'scuba_diver']), ('498', ['n03032252', 'cinema']), ('957', ['n07768694', 'pomegranate']), ('59', ['n01739381', 'vine_snake']), ('986', ['n12057211', \"yellow_lady's_slipper\"]), ('422', ['n02790996', 'barbell']), ('761', ['n04074963', 'remote_control']), ('306', ['n02174001', 'rhinoceros_beetle']), ('150', ['n02077923', 'sea_lion']), ('778', ['n04141975', 'scale']), ('378', ['n02492035', 'capuchin']), ('483', ['n02980441', 'castle']), ('858', ['n04435653', 'tile_roof']), ('375', ['n02488702', 'colobus']), ('318', ['n02264363', 'lacewing']), ('622', ['n03657121', 'lens_cap']), ('358', ['n02443114', 'polecat']), ('209', ['n02099849', 'Chesapeake_Bay_retriever']), ('4', ['n01494475', 'hammerhead']), ('770', ['n04120489', 'running_shoe']), ('176', ['n02091831', 'Saluki']), ('580', ['n03457902', 'greenhouse']), ('837', ['n04356056', 'sunglasses']), ('216', ['n02101556', 'clumber']), ('902', ['n04579432', 'whistle']), ('885', ['n04525038', 'velvet']), ('618', ['n03633091', 'ladle']), ('804', ['n04254120', 'soap_dispenser']), ('869', ['n04479046', 'trench_coat']), ('18', ['n01582220', 'magpie']), ('115', ['n01950731', 'sea_slug']), ('652', ['n03763968', 'military_uniform']), ('602', ['n03535780', 'horizontal_bar']), ('391', ['n02536864', 'coho']), ('714', ['n03929660', 'pick']), ('489', ['n03000134', 'chainlink_fence']), ('70', ['n01770081', 'harvestman']), ('627', ['n03670208', 'limousine']), ('769', ['n04118776', 'rule']), ('782', ['n04152593', 'screen']), ('942', ['n07717556', 'butternut_squash']), ('429', ['n02799071', 'baseball']), ('906', ['n04591157', 'Windsor_tie']), ('644', ['n03729826', 'matchstick']), ('931', ['n07693725', 'bagel']), ('604', ['n03544143', 'hourglass']), ('54', ['n01729322', 'hognose_snake']), ('83', ['n01798484', 'prairie_chicken']), ('104', ['n01877812', 'wallaby']), ('867', ['n04467665', 'trailer_truck']), ('294', ['n02132136', 'brown_bear']), ('96', ['n01843383', 'toucan']), ('465', ['n02916936', 'bulletproof_vest']), ('513', ['n03110669', 'cornet']), ('117', ['n01968897', 'chambered_nautilus']), ('260', ['n02112137', 'chow']), ('548', ['n03290653', 'entertainment_center']), ('473', ['n02951585', 'can_opener']), ('809', ['n04263257', 'soup_bowl']), ('540', ['n03240683', 'drilling_platform']), ('305', ['n02172182', 'dung_beetle']), ('125', ['n01986214', 'hermit_crab']), ('660', ['n03776460', 'mobile_home']), ('75', ['n01774384', 'black_widow']), ('397', ['n02655020', 'puffer']), ('992', ['n12998815', 'agaric']), ('144', ['n02051845', 'pelican']), ('228', ['n02105505', 'komondor']), ('277', ['n02119022', 'red_fox']), ('549', ['n03291819', 'envelope']), ('531', ['n03197337', 'digital_watch']), ('694', ['n03874293', 'paddlewheel']), ('110', ['n01924916', 'flatworm']), ('573', ['n03444034', 'go-kart']), ('28', ['n01632458', 'spotted_salamander']), ('570', ['n03424325', 'gasmask']), ('256', ['n02111277', 'Newfoundland']), ('989', ['n12620546', 'hip']), ('760', ['n04070727', 'refrigerator']), ('316', ['n02256656', 'cicada']), ('212', ['n02100735', 'English_setter']), ('786', ['n04179913', 'sewing_machine']), ('38', ['n01675722', 'banded_gecko']), ('184', ['n02093991', 'Irish_terrier']), ('474', ['n02963159', 'cardigan']), ('544', ['n03259280', 'Dutch_oven']), ('68', ['n01756291', 'sidewinder']), ('478', ['n02971356', 'carton']), ('798', ['n04238763', 'slide_rule']), ('788', ['n04200800', 'shoe_shop']), ('76', ['n01774750', 'tarantula']), ('579', ['n03452741', 'grand_piano']), ('795', ['n04228054', 'ski']), ('843', ['n04371774', 'swing']), ('826', ['n04328186', 'stopwatch']), ('233', ['n02106382', 'Bouvier_des_Flandres']), ('838', ['n04357314', 'sunscreen']), ('995', ['n13044778', 'earthstar']), ('371', ['n02486261', 'patas']), ('226', ['n02105251', 'briard']), ('63', ['n01748264', 'Indian_cobra']), ('563', ['n03388183', 'fountain_pen']), ('472', ['n02951358', 'canoe']), ('456', ['n02879718', 'bow']), ('213', ['n02100877', 'Irish_setter']), ('581', ['n03459775', 'grille']), ('711', ['n03916031', 'perfume']), ('232', ['n02106166', 'Border_collie']), ('282', ['n02123159', 'tiger_cat']), ('351', ['n02422106', 'hartebeest']), ('510', ['n03095699', 'container_ship']), ('571', ['n03425413', 'gas_pump']), ('969', ['n07932039', 'eggnog']), ('561', ['n03384352', 'forklift']), ('78', ['n01776313', 'tick']), ('229', ['n02105641', 'Old_English_sheepdog']), ('178', ['n02092339', 'Weimaraner']), ('436', ['n02814533', 'beach_wagon']), ('853', ['n04417672', 'thatch']), ('898', ['n04557648', 'water_bottle']), ('2', ['n01484850', 'great_white_shark']), ('240', ['n02107908', 'Appenzeller']), ('353', ['n02423022', 'gazelle']), ('345', ['n02403003', 'ox']), ('118', ['n01978287', 'Dungeness_crab']), ('818', ['n04286575', 'spotlight']), ('139', ['n02025239', 'ruddy_turnstone']), ('457', ['n02883205', 'bow_tie']), ('944', ['n07718747', 'artichoke']), ('56', ['n01734418', 'king_snake']), ('723', ['n03944341', 'pinwheel']), ('598', ['n03529860', 'home_theater']), ('327', ['n02317335', 'starfish']), ('497', ['n03028079', 'church']), ('689', ['n03866082', 'overskirt']), ('379', ['n02492660', 'howler_monkey']), ('620', ['n03642806', 'laptop']), ('994', ['n13040303', 'stinkhorn']), ('140', ['n02027492', 'red-backed_sandpiper']), ('448', ['n02843684', 'birdhouse']), ('363', ['n02454379', 'armadillo']), ('752', ['n04039381', 'racket']), ('632', ['n03691459', 'loudspeaker']), ('597', ['n03527444', 'holster']), ('283', ['n02123394', 'Persian_cat']), ('856', ['n04428191', 'thresher']), ('907', ['n04591713', 'wine_bottle']), ('103', ['n01873310', 'platypus']), ('219', ['n02102318', 'cocker_spaniel']), ('773', ['n04131690', 'saltshaker']), ('169', ['n02090622', 'borzoi']), ('94', ['n01833805', 'hummingbird']), ('419', ['n02786058', 'Band_Aid']), ('750', ['n04033995', 'quilt']), ('945', ['n07720875', 'bell_pepper']), ('227', ['n02105412', 'kelpie']), ('123', ['n01984695', 'spiny_lobster']), ('870', ['n04482393', 'tricycle']), ('377', ['n02490219', 'marmoset']), ('621', ['n03649909', 'lawn_mower']), ('677', ['n03804744', 'nail']), ('736', ['n03982430', 'pool_table']), ('963', ['n07873807', 'pizza']), ('374', ['n02488291', 'langur']), ('86', ['n01807496', 'partridge']), ('337', ['n02363005', 'beaver']), ('646', ['n03733281', 'maze']), ('554', ['n03344393', 'fireboat']), ('833', ['n04347754', 'submarine']), ('776', ['n04141076', 'sax']), ('426', ['n02794156', 'barometer']), ('797', ['n04235860', 'sleeping_bag']), ('813', ['n04270147', 'spatula']), ('264', ['n02113186', 'Cardigan']), ('453', ['n02870880', 'bookcase']), ('365', ['n02480495', 'orangutan']), ('5', ['n01496331', 'electric_ray']), ('311', ['n02226429', 'grasshopper']), ('210', ['n02100236', 'German_short-haired_pointer']), ('164', ['n02088632', 'bluetick']), ('250', ['n02110185', 'Siberian_husky']), ('610', ['n03595614', 'jersey']), ('462', ['n02906734', 'broom']), ('636', ['n03709823', 'mailbag']), ('160', ['n02088094', 'Afghan_hound']), ('941', ['n07717410', 'acorn_squash']), ('26', ['n01630670', 'common_newt']), ('656', ['n03770679', 'minivan']), ('742', ['n04004767', 'printer']), ('3', ['n01491361', 'tiger_shark']), ('873', ['n04486054', 'triumphal_arch']), ('130', ['n02007558', 'flamingo']), ('499', ['n03041632', 'cleaver']), ('801', ['n04251144', 'snorkel']), ('307', ['n02177972', 'weevil']), ('166', ['n02089867', 'Walker_hound']), ('895', ['n04552348', 'warplane']), ('367', ['n02481823', 'chimpanzee']), ('812', ['n04266014', 'space_shuttle']), ('701', ['n03888257', 'parachute']), ('747', ['n04023962', 'punching_bag']), ('291', ['n02129165', 'lion']), ('79', ['n01784675', 'centipede']), ('578', ['n03450230', 'gown']), ('43', ['n01688243', 'frilled_lizard']), ('981', ['n09835506', 'ballplayer']), ('484', ['n02981792', 'catamaran']), ('214', ['n02101006', 'Gordon_setter']), ('864', ['n04461696', 'tow_truck']), ('339', ['n02389026', 'sorrel']), ('290', ['n02128925', 'jaguar']), ('451', ['n02865351', 'bolo_tie']), ('152', ['n02085782', 'Japanese_spaniel']), ('639', ['n03710721', 'maillot']), ('669', ['n03788365', 'mosquito_net']), ('900', ['n04562935', 'water_tower']), ('122', ['n01983481', 'American_lobster']), ('892', ['n04548280', 'wall_clock']), ('985', ['n11939491', 'daisy']), ('101', ['n01871265', 'tusker']), ('490', ['n03000247', 'chain_mail']), ('966', ['n07892512', 'red_wine']), ('39', ['n01677366', 'common_iguana']), ('501', ['n03045698', 'cloak']), ('921', ['n07248320', 'book_jacket']), ('765', ['n04099969', 'rocking_chair']), ('758', ['n04067472', 'reel']), ('815', ['n04275548', 'spider_web']), ('517', ['n03126707', 'crane']), ('31', ['n01644373', 'tree_frog']), ('266', ['n02113712', 'miniature_poodle']), ('263', ['n02113023', 'Pembroke']), ('731', ['n03970156', 'plunger']), ('297', ['n02134418', 'sloth_bear']), ('470', ['n02948072', 'candle']), ('590', ['n03485407', 'hand-held_computer']), ('519', ['n03127925', 'crate']), ('272', ['n02114855', 'coyote']), ('528', ['n03187595', 'dial_telephone']), ('230', ['n02105855', 'Shetland_sheepdog']), ('650', ['n03759954', 'microphone']), ('261', ['n02112350', 'keeshond']), ('794', ['n04209239', 'shower_curtain']), ('796', ['n04229816', 'ski_mask']), ('609', ['n03594945', 'jeep']), ('918', ['n06785654', 'crossword_puzzle']), ('496', ['n03026506', 'Christmas_stocking']), ('287', ['n02127052', 'lynx']), ('289', ['n02128757', 'snow_leopard']), ('658', ['n03775071', 'mitten']), ('729', ['n03961711', 'plate_rack']), ('615', ['n03623198', 'knee_pad']), ('100', ['n01860187', 'black_swan']), ('835', ['n04355338', 'sundial']), ('950', ['n07747607', 'orange']), ('576', ['n03447447', 'gondola']), ('601', ['n03534580', 'hoopskirt']), ('654', ['n03769881', 'minibus']), ('960', ['n07836838', 'chocolate_sauce']), ('559', ['n03376595', 'folding_chair']), ('956', ['n07760859', 'custard_apple']), ('887', ['n04532106', 'vestment']), ('48', ['n01695060', 'Komodo_dragon']), ('802', ['n04252077', 'snowmobile']), ('381', ['n02493793', 'spider_monkey']), ('657', ['n03773504', 'missile']), ('148', ['n02071294', 'killer_whale']), ('416', ['n02777292', 'balance_beam']), ('647', ['n03733805', 'measuring_cup']), ('81', ['n01796340', 'ptarmigan']), ('207', ['n02099601', 'golden_retriever']), ('393', ['n02607072', 'anemone_fish']), ('591', ['n03485794', 'handkerchief']), ('586', ['n03478589', 'half_track']), ('432', ['n02804610', 'bassoon']), ('124', ['n01985128', 'crayfish']), ('382', ['n02494079', 'squirrel_monkey'])])"
      ]
     },
     "execution_count": 55,
     "metadata": {},
     "output_type": "execute_result"
    }
   ],
   "source": [
    "categories_raw.items()"
   ]
  },
  {
   "cell_type": "code",
   "execution_count": 60,
   "metadata": {},
   "outputs": [
    {
     "data": {
      "text/plain": [
       "[(0, 'n01440764', 'tench'),\n",
       " (1, 'n01443537', 'goldfish'),\n",
       " (2, 'n01484850', 'great_white_shark'),\n",
       " (3, 'n01491361', 'tiger_shark'),\n",
       " (4, 'n01494475', 'hammerhead')]"
      ]
     },
     "execution_count": 60,
     "metadata": {},
     "output_type": "execute_result"
    }
   ],
   "source": [
    "with open(\"sampling_imagenet/imagenet_class_index.json\") as f:\n",
    "    categories_raw = json.load(f)\n",
    "    \n",
    "categories = [(int(k), v) for k, v in categories_raw.items()]\n",
    "categories = [tuple([k] + v) for k, v in sorted(categories)]\n",
    "categories[:5]"
   ]
  },
  {
   "cell_type": "markdown",
   "metadata": {},
   "source": [
    "## Action"
   ]
  },
  {
   "cell_type": "code",
   "execution_count": 18,
   "metadata": {},
   "outputs": [],
   "source": [
    "def urlretrieve(url, filepath, timeout=10):\n",
    "    with open(filepath, 'wb') as f:\n",
    "        f.write(requests.get(url, allow_redirects=True, timeout=timeout).content)"
   ]
  },
  {
   "cell_type": "code",
   "execution_count": 48,
   "metadata": {},
   "outputs": [],
   "source": [
    "def download_imagenet_category(wnid=\"n04154340\",\n",
    "                               timeout=2,\n",
    "                               path=\"data/imgs\",\n",
    "                               resize=True,\n",
    "                               resize_to=(250, 250),\n",
    "                               limit=10):\n",
    "\n",
    "    r = requests.get(\"http://www.image-net.org/api/text/imagenet.synset.geturls\",\n",
    "                    params={\"wnid\": wnid})\n",
    "    urls = r.content.decode('utf-8').split()\n",
    "    print(\"{wnid} ---> {path}\".format(wnid=wnid, path=path))\n",
    "\n",
    "    if not os.path.exists(path):\n",
    "        os.makedirs(path)\n",
    "\n",
    "    pic_num = 0\n",
    "    \n",
    "    tqdm_success = tqdm_notebook(total=limit, desc=\"Successfully saved\")\n",
    "    for url in tqdm_notebook(urls, desc=\"Retrievals tried\"):\n",
    "        print(pic_num, end=\" \")\n",
    "        try:\n",
    "            # print(url, end=\" ... \")\n",
    "            filepath = \"{path}/{pic_num}.jpg\".format(path=path, pic_num=pic_num)\n",
    "            urlretrieve(url, filepath, timeout=timeout)\n",
    "            # print(\"DONE!\")\n",
    "                    \n",
    "            if resize:\n",
    "                img = cv2.imread(filepath, cv2.IMREAD_GRAYSCALE)\n",
    "                resized_image = cv2.resize(img, resize_to)\n",
    "                cv2.imwrite(filepath, resized_image)\n",
    "\n",
    "            pic_num += 1\n",
    "            tqdm_success.update(n=1)\n",
    "            \n",
    "\n",
    "        except Exception as e:\n",
    "            pass\n",
    "            # print(str(e))\n",
    "            \n",
    "        if pic_num >= limit:\n",
    "            break\n",
    "            \n",
    "    download_imagenet_category.close()"
   ]
  },
  {
   "cell_type": "code",
   "execution_count": 49,
   "metadata": {},
   "outputs": [
    {
     "name": "stdout",
     "output_type": "stream",
     "text": [
      "n04154340 ---> data/imgs\n"
     ]
    },
    {
     "data": {
      "application/vnd.jupyter.widget-view+json": {
       "model_id": "c5f2a3f9b556440f8c97203ef75f7dbf"
      }
     },
     "metadata": {},
     "output_type": "display_data"
    },
    {
     "data": {
      "application/vnd.jupyter.widget-view+json": {
       "model_id": "e64284fe880944c29096bea3e2f4d77d"
      }
     },
     "metadata": {},
     "output_type": "display_data"
    },
    {
     "name": "stdout",
     "output_type": "stream",
     "text": [
      "0 0 1 1 2 2 2 2 2 2 3 4 4 5 5 6 6 6 7 7 7 8 8 8 8 9 9 "
     ]
    }
   ],
   "source": [
    "download_imagenet_category()"
   ]
  },
  {
   "cell_type": "code",
   "execution_count": null,
   "metadata": {},
   "outputs": [],
   "source": [
    "for i, wnid, name in tqdm_notebook(categories, desc=\"Categories\"):\n",
    "    download_imagenet_category(wnid, path=\"imagenet_sample/{}_{}, {}\".format(str(i).zfill(3), wnid, name))"
   ]
  },
  {
   "cell_type": "code",
   "execution_count": 64,
   "metadata": {},
   "outputs": [
    {
     "ename": "SyntaxError",
     "evalue": "invalid syntax (<ipython-input-64-9306d373d241>, line 1)",
     "output_type": "error",
     "traceback": [
      "\u001b[0;36m  File \u001b[0;32m\"<ipython-input-64-9306d373d241>\"\u001b[0;36m, line \u001b[0;32m1\u001b[0m\n\u001b[0;31m    5.zfill(3)\u001b[0m\n\u001b[0m          ^\u001b[0m\n\u001b[0;31mSyntaxError\u001b[0m\u001b[0;31m:\u001b[0m invalid syntax\n"
     ]
    }
   ],
   "source": [
    "5.zfill(3)"
   ]
  },
  {
   "cell_type": "code",
   "execution_count": null,
   "metadata": {},
   "outputs": [],
   "source": []
  }
 ],
 "metadata": {
  "kernelspec": {
   "display_name": "Python [conda root]",
   "language": "python",
   "name": "conda-root-py"
  },
  "language_info": {
   "codemirror_mode": {
    "name": "ipython",
    "version": 3
   },
   "file_extension": ".py",
   "mimetype": "text/x-python",
   "name": "python",
   "nbconvert_exporter": "python",
   "pygments_lexer": "ipython3",
   "version": "3.5.4"
  }
 },
 "nbformat": 4,
 "nbformat_minor": 2
}
