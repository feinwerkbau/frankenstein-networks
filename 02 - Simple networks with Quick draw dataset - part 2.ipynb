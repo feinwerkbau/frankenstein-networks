{
 "cells": [
  {
   "cell_type": "markdown",
   "metadata": {},
   "source": [
    "# Brainhack 2019 - starter kit\n",
    "\n",
    "By [Piotr Migdał](https://p.migdal.pl) and Katarzyna Kańska.\n",
    "\n",
    "\n",
    "## Notebook 1: Simple networks for image classification\n",
    "We will use a subset of [The Quick, Draw! Dataset](https://github.com/googlecreativelab/quickdraw-dataset).\n",
    "\n",
    "Conveniet way to download selected classes (using [gsutil](https://cloud.google.com/storage/docs/gsutil_install)) `gsutil -m cp \"gs://quickdraw_dataset/full/numpy_bitmap/*.npy\" .`\n",
    "\n",
    "See: https://www.tensorflow.org/tutorials/sequences/recurrent_quickdraw"
   ]
  },
  {
   "cell_type": "code",
   "execution_count": 1,
   "metadata": {},
   "outputs": [],
   "source": [
    "%matplotlib inline\n",
    "import matplotlib.pyplot as plt\n",
    "import numpy as np\n",
    "import pandas as pd\n",
    "import seaborn as sns\n",
    "from sklearn.model_selection import train_test_split\n",
    "from sklearn.metrics import confusion_matrix\n",
    "\n",
    "import torch\n",
    "from torch import nn, optim\n",
    "from torch.utils import data\n",
    "import torchvision\n",
    "from torchvision import datasets, transforms\n",
    "\n",
    "from livelossplot import PlotLosses"
   ]
  },
  {
   "cell_type": "code",
   "execution_count": 2,
   "metadata": {},
   "outputs": [
    {
     "data": {
      "text/plain": [
       "<torch._C.Generator at 0x7f7c3d2aa0f0>"
      ]
     },
     "execution_count": 2,
     "metadata": {},
     "output_type": "execute_result"
    }
   ],
   "source": [
    "torch.manual_seed(42)"
   ]
  },
  {
   "cell_type": "markdown",
   "metadata": {},
   "source": [
    "## Data loading"
   ]
  },
  {
   "cell_type": "code",
   "execution_count": 3,
   "metadata": {},
   "outputs": [
    {
     "name": "stdout",
     "output_type": "stream",
     "text": [
      "Loaded 500 out of 144722 apples\n",
      "Loaded 500 out of 209447 spiders\n",
      "Loaded 500 out of 150152 octopuss\n",
      "Loaded 500 out of 116685 snowflakes\n"
     ]
    }
   ],
   "source": [
    "classes = [\"apple\", \"spider\", \"octopus\", \"snowflake\"]\n",
    "limit = 500\n",
    "images = []\n",
    "\n",
    "for label in classes:\n",
    "    X = np.load('../google_draw/{}.npy'.format(label))\n",
    "    print(\"Loaded {} out of {} {}s\".format(limit, X.shape[0], label))\n",
    "    images.append(X[:limit])\n",
    "\n",
    "X = np.concatenate(images)\n",
    "Y = np.concatenate([limit * [i] for i in range(len(classes))])"
   ]
  },
  {
   "cell_type": "code",
   "execution_count": 4,
   "metadata": {},
   "outputs": [
    {
     "data": {
      "text/plain": [
       "(2000, 1, 32, 32)"
      ]
     },
     "execution_count": 4,
     "metadata": {},
     "output_type": "execute_result"
    }
   ],
   "source": [
    "X = X.reshape(-1, 1, 28, 28)\n",
    "X = X.astype('float32') / 255.\n",
    "X = np.pad(X, [(0, 0), (0, 0), (2, 2), (2, 2)], mode='constant')\n",
    "\n",
    "# (samples, channels, x, y)\n",
    "X.shape"
   ]
  },
  {
   "cell_type": "markdown",
   "metadata": {},
   "source": [
    "## Train-test split"
   ]
  },
  {
   "cell_type": "code",
   "execution_count": 5,
   "metadata": {},
   "outputs": [],
   "source": [
    "X_train, X_test, Y_train, Y_test = train_test_split(X, Y, test_size=0.25, random_state=42)"
   ]
  },
  {
   "cell_type": "markdown",
   "metadata": {},
   "source": [
    "## Datasets and data loaders\n",
    "\n",
    "We need to create data loaders to load and preprocess data. We use split:\n",
    "* train - for training,\n",
    "* validation - not used for training, but to evaluate model performance."
   ]
  },
  {
   "cell_type": "code",
   "execution_count": 6,
   "metadata": {},
   "outputs": [],
   "source": [
    "# define data loaders\n",
    "dataloaders = {\n",
    "    'train':\n",
    "    data.DataLoader(\n",
    "        data.TensorDataset(torch.from_numpy(X_train), torch.from_numpy(Y_train).long()),\n",
    "        batch_size=64,\n",
    "        shuffle=True, num_workers=4\n",
    "    ),\n",
    "    'validation': \n",
    "    data.DataLoader(\n",
    "        data.TensorDataset(torch.from_numpy(X_test), torch.from_numpy(Y_test).long()),\n",
    "        batch_size=64,\n",
    "        shuffle=False, num_workers=4\n",
    "    )\n",
    "}"
   ]
  },
  {
   "cell_type": "markdown",
   "metadata": {},
   "source": [
    "## Before we start\n",
    "\n",
    "While training a model, it is important to set `train` or `eval` mode of the model, as some layers have different behavior during train and evaluation.\n",
    "\n",
    "See also: [Keras vs. PyTorch: Alien vs. Predator recognition with transfer learning](https://deepsense.ai/keras-vs-pytorch-avp-transfer-learning) which explains API differences between these frameworks."
   ]
  },
  {
   "cell_type": "code",
   "execution_count": 7,
   "metadata": {},
   "outputs": [],
   "source": [
    "device = torch.device('cuda:0' if torch.cuda.is_available() else 'cpu')\n",
    "\n",
    "def train_model(model, criterion, optimizer, num_epochs=10, metrics={}):\n",
    "    liveloss = PlotLosses()\n",
    "    model = model.to(device)\n",
    "    \n",
    "    for epoch in range(num_epochs):\n",
    "        logs = {}\n",
    "        for phase in ['train', 'validation']:\n",
    "            if phase == 'train':\n",
    "                model.train()\n",
    "            else:\n",
    "                model.eval()\n",
    "\n",
    "            running_loss = 0.0\n",
    "            running_corrects = 0\n",
    "\n",
    "            for inputs, labels in dataloaders[phase]:\n",
    "                inputs = inputs.to(device)\n",
    "                labels = labels.to(device)\n",
    "\n",
    "                outputs = model(inputs)\n",
    "                loss = criterion(outputs, labels)\n",
    "\n",
    "                if phase == 'train':\n",
    "                    optimizer.zero_grad()\n",
    "                    loss.backward()\n",
    "                    optimizer.step()\n",
    "\n",
    "                _, preds = torch.max(outputs, 1)\n",
    "                running_loss += loss.item() * inputs.size(0)\n",
    "                running_corrects += (preds == labels.data).sum().item()\n",
    "\n",
    "            epoch_loss = running_loss / len(dataloaders[phase].dataset)\n",
    "            epoch_acc = running_corrects / len(dataloaders[phase].dataset)\n",
    "            \n",
    "            prefix = ''\n",
    "            if phase == 'validation':\n",
    "                prefix = 'val_'\n",
    "\n",
    "            logs[prefix + 'log loss'] = epoch_loss\n",
    "            logs[prefix + 'accuracy'] = epoch_acc\n",
    "            \n",
    "            metrics[phase] = {\n",
    "                'log loss': epoch_loss,\n",
    "                'accuracy': epoch_acc\n",
    "            }\n",
    "        \n",
    "        liveloss.update(logs)\n",
    "        liveloss.draw()\n",
    "    return model"
   ]
  },
  {
   "cell_type": "code",
   "execution_count": 8,
   "metadata": {},
   "outputs": [
    {
     "data": {
      "text/plain": [
       "device(type='cpu')"
      ]
     },
     "execution_count": 8,
     "metadata": {},
     "output_type": "execute_result"
    }
   ],
   "source": [
    "device"
   ]
  },
  {
   "cell_type": "markdown",
   "metadata": {},
   "source": [
    "## Convolutional neural network"
   ]
  },
  {
   "cell_type": "code",
   "execution_count": 9,
   "metadata": {},
   "outputs": [],
   "source": [
    "# antipattern in PyTorch, don't do it!\n",
    "class Flatten(nn.Module):\n",
    "    def forward(self, x):\n",
    "        return x.view(x.size(0), -1)"
   ]
  },
  {
   "cell_type": "code",
   "execution_count": 10,
   "metadata": {},
   "outputs": [],
   "source": [
    "class ConvNet(nn.Module):\n",
    "    def __init__(self):\n",
    "        super().__init__()\n",
    "        self.conv1 = self._conv_block(1, 16)\n",
    "        self.conv2 = self._conv_block(16, 32)\n",
    "        self.conv3 = self._conv_block(32, 64)\n",
    "        \n",
    "        self.fc = nn.Sequential(\n",
    "            Flatten(),\n",
    "            nn.Linear(64 * 4 * 4, 128),\n",
    "            nn.ReLU(inplace=True),\n",
    "            nn.Dropout(0.5),\n",
    "            nn.Linear(128, len(classes))\n",
    "        )\n",
    "    \n",
    "    def _conv_block(self, in_channels, out_channels):\n",
    "        return nn.Sequential(\n",
    "            nn.Conv2d(in_channels, out_channels, kernel_size=3, padding=1),\n",
    "            nn.ReLU(inplace=True),\n",
    "            nn.MaxPool2d(2, 2)\n",
    "        )\n",
    "    \n",
    "    def forward(self, x):\n",
    "        x = self.conv1(x)\n",
    "        x = self.conv2(x)\n",
    "        x = self.conv3(x)\n",
    "        x = self.fc(x)\n",
    "        return x"
   ]
  },
  {
   "cell_type": "code",
   "execution_count": 11,
   "metadata": {},
   "outputs": [],
   "source": [
    "def make_connector(in_channels, out_channels, intermediate_channels=None):\n",
    "    if not intermediate_channels:\n",
    "        intermediate_channels = in_channels\n",
    "    \n",
    "    return nn.Sequential(\n",
    "        nn.Conv2d(in_channels, intermediate_channels, kernel_size=1, padding=0),\n",
    "        nn.ReLU(inplace=True),\n",
    "        nn.Conv2d(intermediate_channels, out_channels, kernel_size=1, padding=0),\n",
    "        nn.ReLU(inplace=True)\n",
    "    )"
   ]
  },
  {
   "cell_type": "code",
   "execution_count": 12,
   "metadata": {},
   "outputs": [],
   "source": [
    "class SewnConvNet(nn.Module):\n",
    "    def __init__(self, net_before, net_after, connector):\n",
    "        super().__init__()\n",
    "        self.net_before = net_before.eval()\n",
    "        self.net_after = net_after.eval()\n",
    "        self.connector = connector\n",
    "        \n",
    "        self._assert_channels()\n",
    "    \n",
    "    def forward(self, x):\n",
    "        x = self.net_before(x)\n",
    "        x = self.connector(x)\n",
    "        x = self.net_after(x)\n",
    "        return x\n",
    "    \n",
    "    def _assert_channels(self):\n",
    "        '''\n",
    "        net_before, net_after, connector - nn.Sequential or nn.ModuleList\n",
    "        '''\n",
    "        before_out_channels = self._find_out_channels(self.net_before)\n",
    "        connector_in_channels = self._find_in_channels(self.connector)\n",
    "        if before_out_channels != connector_in_channels:\n",
    "            raise ValueError('Connector has {} input channels, expected {}.'.format(\n",
    "                connector_in_channels, before_out_channels)\n",
    "            )\n",
    "        \n",
    "        connector_out_channels = self._find_out_channels(self.connector)\n",
    "        after_in_channels = self._find_in_channels(self.net_after)\n",
    "        if after_in_channels != connector_out_channels:\n",
    "            raise ValueError('Connector has {} output channels, expected {}.'.format(\n",
    "                connector_out_channels, after_in_channels)\n",
    "            )\n",
    "    \n",
    "    def parameters(self, recurse=True):\n",
    "        return self.connector.parameters()\n",
    "    \n",
    "    def train(self, mode=True):\n",
    "        self.training = mode\n",
    "        self.connector.train(mode)\n",
    "        return self\n",
    "    \n",
    "    def eval(self):\n",
    "        return self.train(False)\n",
    "    \n",
    "    def _find_in_channels(self, half):\n",
    "        for m in half.modules():\n",
    "            if isinstance(m, nn.Conv2d):\n",
    "                return m.in_channels\n",
    "            if isinstance(m, nn.Linear):\n",
    "                return m.in_features // 16  # be carefull!\n",
    "    \n",
    "    def _find_out_channels(self, half):\n",
    "        out_channels = None\n",
    "        for m in half.modules():\n",
    "            if isinstance(m, nn.Conv2d):\n",
    "                out_channels = m.out_channels\n",
    "            if isinstance(m, nn.Linear):\n",
    "                out_channels = m.out_features\n",
    "        return out_channels"
   ]
  },
  {
   "cell_type": "code",
   "execution_count": 13,
   "metadata": {},
   "outputs": [],
   "source": [
    "model = ConvNet()\n",
    "criterion = nn.CrossEntropyLoss()\n",
    "optimizer = optim.Adam(model.parameters(), lr=1e-4)"
   ]
  },
  {
   "cell_type": "code",
   "execution_count": 14,
   "metadata": {},
   "outputs": [
    {
     "data": {
      "image/png": "[encoded data removed]",
      "text/plain": [
       "<Figure size 864x576 with 2 Axes>"
      ]
     },
     "metadata": {
      "needs_background": "light"
     },
     "output_type": "display_data"
    },
    {
     "name": "stdout",
     "output_type": "stream",
     "text": [
      "accuracy:\n",
      "training   (min:    0.354, max:    0.817, cur:    0.810)\n",
      "validation (min:    0.422, max:    0.840, cur:    0.840)\n",
      "\n",
      "log loss:\n",
      "training   (min:    0.521, max:    1.380, cur:    0.521)\n",
      "validation (min:    0.477, max:    1.370, cur:    0.477)\n"
     ]
    }
   ],
   "source": [
    "basic_model_metrics = {}\n",
    "model_trained = train_model(model, criterion, optimizer, num_epochs=20, metrics=basic_model_metrics)"
   ]
  },
  {
   "cell_type": "markdown",
   "metadata": {},
   "source": [
    "## Implant layer into one trained network"
   ]
  },
  {
   "cell_type": "code",
   "execution_count": 15,
   "metadata": {},
   "outputs": [
    {
     "data": {
      "image/png": "[encoded data removed]",
      "text/plain": [
       "<Figure size 864x576 with 2 Axes>"
      ]
     },
     "metadata": {
      "needs_background": "light"
     },
     "output_type": "display_data"
    },
    {
     "name": "stdout",
     "output_type": "stream",
     "text": [
      "accuracy:\n",
      "training   (min:    0.397, max:    0.820, cur:    0.818)\n",
      "validation (min:    0.768, max:    0.828, cur:    0.826)\n",
      "\n",
      "log loss:\n",
      "training   (min:    0.527, max:    1.328, cur:    0.527)\n",
      "validation (min:    0.521, max:    1.274, cur:    0.521)\n"
     ]
    }
   ],
   "source": [
    "layers = list(model_trained.children())\n",
    "out_channels = 16\n",
    "\n",
    "metrics_all = []\n",
    "\n",
    "for i in range(1, len(layers)):\n",
    "    net_before = nn.Sequential(*layers[:i])\n",
    "    net_after = nn.Sequential(*layers[i:])\n",
    "    connector = make_connector(out_channels, out_channels)\n",
    "    out_channels *= 2\n",
    "    \n",
    "    sewn_model = SewnConvNet(net_before, net_after, connector)\n",
    "    optimizer = optim.Adam(sewn_model.parameters(), lr=1e-4)\n",
    "    \n",
    "    metrics = {}\n",
    "    sewn_model_trained = train_model(sewn_model, criterion, optimizer, num_epochs=40, metrics=metrics)\n",
    "    \n",
    "    for phase, values in metrics.items():\n",
    "        metrics_all.append({\n",
    "            'phase': phase,\n",
    "            'after which layer': 'conv{}'.format(i),\n",
    "            **values\n",
    "        })"
   ]
  },
  {
   "cell_type": "code",
   "execution_count": 16,
   "metadata": {},
   "outputs": [
    {
     "data": {
      "text/plain": [
       "<matplotlib.lines.Line2D at 0x7f7c3cec18d0>"
      ]
     },
     "execution_count": 16,
     "metadata": {},
     "output_type": "execute_result"
    },
    {
     "data": {
      "image/png": "[encoded data removed]",
      "text/plain": [
       "<Figure size 445.375x360 with 1 Axes>"
      ]
     },
     "metadata": {
      "needs_background": "light"
     },
     "output_type": "display_data"
    }
   ],
   "source": [
    "df = pd.DataFrame(metrics_all)\n",
    "sns.catplot('after which layer', 'accuracy', 'phase', data=df, kind='bar', palette='muted')\n",
    "plt.axhline(basic_model_metrics['validation']['accuracy'], color='r')"
   ]
  },
  {
   "cell_type": "code",
   "execution_count": 17,
   "metadata": {},
   "outputs": [
    {
     "data": {
      "text/plain": [
       "<matplotlib.lines.Line2D at 0x7f7c3cd3a160>"
      ]
     },
     "execution_count": 17,
     "metadata": {},
     "output_type": "execute_result"
    },
    {
     "data": {
      "image/png": "[encoded data removed]",
      "text/plain": [
       "<Figure size 445.375x360 with 1 Axes>"
      ]
     },
     "metadata": {
      "needs_background": "light"
     },
     "output_type": "display_data"
    }
   ],
   "source": [
    "sns.catplot('after which layer', 'log loss', 'phase', data=df, kind='bar', palette='muted')\n",
    "plt.axhline(basic_model_metrics['validation']['log loss'], color='r')"
   ]
  }
 ],
 "metadata": {
  "kernelspec": {
   "display_name": "Python 3",
   "language": "python",
   "name": "python3"
  },
  "language_info": {
   "codemirror_mode": {
    "name": "ipython",
    "version": 3
   },
   "file_extension": ".py",
   "mimetype": "text/x-python",
   "name": "python",
   "nbconvert_exporter": "python",
   "pygments_lexer": "ipython3",
   "version": "3.5.2"
  }
 },
 "nbformat": 4,
 "nbformat_minor": 2
}
